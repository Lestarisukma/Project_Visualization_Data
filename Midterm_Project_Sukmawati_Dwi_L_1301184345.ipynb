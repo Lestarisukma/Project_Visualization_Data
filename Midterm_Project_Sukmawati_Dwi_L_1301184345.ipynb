{
  "nbformat": 4,
  "nbformat_minor": 0,
  "metadata": {
    "kernelspec": {
      "display_name": "Python 3",
      "language": "python",
      "name": "python3"
    },
    "language_info": {
      "codemirror_mode": {
        "name": "ipython",
        "version": 3
      },
      "file_extension": ".py",
      "mimetype": "text/x-python",
      "name": "python",
      "nbconvert_exporter": "python",
      "pygments_lexer": "ipython3",
      "version": "3.6.9"
    },
    "colab": {
      "name": "Midterm_Project_Sukmawati D.L_1301184345.ipynb",
      "provenance": [],
      "collapsed_sections": []
    }
  },
  "cells": [
    {
      "cell_type": "markdown",
      "metadata": {
        "id": "2M-UTIFeaG-G"
      },
      "source": [
        "## Tugas Besar 1 \n",
        "### MK Visualisasi Data Gasal 2020/2021"
      ]
    },
    {
      "cell_type": "markdown",
      "metadata": {
        "id": "4YnM7vuBaG-K"
      },
      "source": [
        "<b>Nama<b>: Sukmawati Dwi Lestari <br> \n",
        "<b>NIM<b>:  1301184345"
      ]
    },
    {
      "cell_type": "markdown",
      "metadata": {
        "id": "HF7mDzyzaG-K"
      },
      "source": [
        "#### Aturan umum:\n",
        "1. Setiap soal dievaluasi berdasarkan _code program_ dan penjelasan yang dibuat.\n",
        "2. File _midterm project_ yang telah dikerjakan harus di-submit melalui LMS.\n",
        "3. Batas akhir submit file adalah 1 November 2020 pukul 21:00.\n",
        "4. <b><font color='red'>Setiap tindakan plagiarism akan berakibat pada ketidaklulusan pada MK ini.</font><b>"
      ]
    },
    {
      "cell_type": "markdown",
      "metadata": {
        "id": "4MewSP_MaG-L"
      },
      "source": [
        "### Kasus 1: Pima Indian Diabetes Data Set (Soal 1 - 2)\n",
        "Dataset ini berasal dari the National Institute of Diabetes and Digestive and Kidney Diseases. Tujuan dari pengumpulan dataset ini untuk dapat memprediksi secara diagnosis apakah seseorang mengidap penyakit diabetes atau tidak berdasarkan beberapa pengukuran diagnostik. Seluruh pasien pada dataset ini adalah perempuan keturunan India Pima yang berumur kurang dari 21 tahun.<br><br>\n",
        "Dataset terdiri dari beberapa variabel prediktor medis dan satu variabel target sebagai _outcome_. Variabel prediktor di antaranya jumlah kehamilan, BMI, level insulin, usia, dll.lin level, age, and so on. Dataset dapat diunduh melalui [tautan ini](https://www.dl.dropboxusercontent.com/s/3i3gfr8pih4jwd4/diabetes.csv?dl=0)"
      ]
    },
    {
      "cell_type": "markdown",
      "metadata": {
        "id": "hwfqRvoraG-L"
      },
      "source": [
        "### Soal 1 (15 poin)\n",
        "Tampilkan visualisasi distribusi data untuk variabel \"Glucose\" dan \"Insulin\", lalu jelaskan hasil distribusinya."
      ]
    },
    {
      "cell_type": "markdown",
      "metadata": {
        "id": "EkZLO5ISaG-L"
      },
      "source": [
        "#### Code"
      ]
    },
    {
      "cell_type": "code",
      "metadata": {
        "id": "UrYipFJcwpot"
      },
      "source": [
        "import numpy as np\n",
        "import pandas as pd \n",
        "import matplotlib.pyplot as plt\n",
        "import seaborn as sns"
      ],
      "execution_count": 39,
      "outputs": []
    },
    {
      "cell_type": "markdown",
      "metadata": {
        "id": "LueOXftJwx5P"
      },
      "source": [
        "Read the data"
      ]
    },
    {
      "cell_type": "code",
      "metadata": {
        "id": "BV3w4ModaG-L",
        "colab": {
          "base_uri": "https://localhost:8080/",
          "height": 407
        },
        "outputId": "aad634e0-b148-4168-bea4-0a4d2bb92a6b"
      },
      "source": [
        "# type your code here\n",
        "df_can = pd.read_csv('diabetes.csv')\n",
        "df_can"
      ],
      "execution_count": 9,
      "outputs": [
        {
          "output_type": "execute_result",
          "data": {
            "text/html": [
              "<div>\n",
              "<style scoped>\n",
              "    .dataframe tbody tr th:only-of-type {\n",
              "        vertical-align: middle;\n",
              "    }\n",
              "\n",
              "    .dataframe tbody tr th {\n",
              "        vertical-align: top;\n",
              "    }\n",
              "\n",
              "    .dataframe thead th {\n",
              "        text-align: right;\n",
              "    }\n",
              "</style>\n",
              "<table border=\"1\" class=\"dataframe\">\n",
              "  <thead>\n",
              "    <tr style=\"text-align: right;\">\n",
              "      <th></th>\n",
              "      <th>Pregnancies</th>\n",
              "      <th>Glucose</th>\n",
              "      <th>BloodPressure</th>\n",
              "      <th>SkinThickness</th>\n",
              "      <th>Insulin</th>\n",
              "      <th>BMI</th>\n",
              "      <th>DiabetesPedigreeFunction</th>\n",
              "      <th>Age</th>\n",
              "      <th>Outcome</th>\n",
              "    </tr>\n",
              "  </thead>\n",
              "  <tbody>\n",
              "    <tr>\n",
              "      <th>0</th>\n",
              "      <td>6</td>\n",
              "      <td>148</td>\n",
              "      <td>72</td>\n",
              "      <td>35</td>\n",
              "      <td>0</td>\n",
              "      <td>33.6</td>\n",
              "      <td>0.627</td>\n",
              "      <td>50</td>\n",
              "      <td>1</td>\n",
              "    </tr>\n",
              "    <tr>\n",
              "      <th>1</th>\n",
              "      <td>1</td>\n",
              "      <td>85</td>\n",
              "      <td>66</td>\n",
              "      <td>29</td>\n",
              "      <td>0</td>\n",
              "      <td>26.6</td>\n",
              "      <td>0.351</td>\n",
              "      <td>31</td>\n",
              "      <td>0</td>\n",
              "    </tr>\n",
              "    <tr>\n",
              "      <th>2</th>\n",
              "      <td>8</td>\n",
              "      <td>183</td>\n",
              "      <td>64</td>\n",
              "      <td>0</td>\n",
              "      <td>0</td>\n",
              "      <td>23.3</td>\n",
              "      <td>0.672</td>\n",
              "      <td>32</td>\n",
              "      <td>1</td>\n",
              "    </tr>\n",
              "    <tr>\n",
              "      <th>3</th>\n",
              "      <td>1</td>\n",
              "      <td>89</td>\n",
              "      <td>66</td>\n",
              "      <td>23</td>\n",
              "      <td>94</td>\n",
              "      <td>28.1</td>\n",
              "      <td>0.167</td>\n",
              "      <td>21</td>\n",
              "      <td>0</td>\n",
              "    </tr>\n",
              "    <tr>\n",
              "      <th>4</th>\n",
              "      <td>0</td>\n",
              "      <td>137</td>\n",
              "      <td>40</td>\n",
              "      <td>35</td>\n",
              "      <td>168</td>\n",
              "      <td>43.1</td>\n",
              "      <td>2.288</td>\n",
              "      <td>33</td>\n",
              "      <td>1</td>\n",
              "    </tr>\n",
              "    <tr>\n",
              "      <th>...</th>\n",
              "      <td>...</td>\n",
              "      <td>...</td>\n",
              "      <td>...</td>\n",
              "      <td>...</td>\n",
              "      <td>...</td>\n",
              "      <td>...</td>\n",
              "      <td>...</td>\n",
              "      <td>...</td>\n",
              "      <td>...</td>\n",
              "    </tr>\n",
              "    <tr>\n",
              "      <th>763</th>\n",
              "      <td>10</td>\n",
              "      <td>101</td>\n",
              "      <td>76</td>\n",
              "      <td>48</td>\n",
              "      <td>180</td>\n",
              "      <td>32.9</td>\n",
              "      <td>0.171</td>\n",
              "      <td>63</td>\n",
              "      <td>0</td>\n",
              "    </tr>\n",
              "    <tr>\n",
              "      <th>764</th>\n",
              "      <td>2</td>\n",
              "      <td>122</td>\n",
              "      <td>70</td>\n",
              "      <td>27</td>\n",
              "      <td>0</td>\n",
              "      <td>36.8</td>\n",
              "      <td>0.340</td>\n",
              "      <td>27</td>\n",
              "      <td>0</td>\n",
              "    </tr>\n",
              "    <tr>\n",
              "      <th>765</th>\n",
              "      <td>5</td>\n",
              "      <td>121</td>\n",
              "      <td>72</td>\n",
              "      <td>23</td>\n",
              "      <td>112</td>\n",
              "      <td>26.2</td>\n",
              "      <td>0.245</td>\n",
              "      <td>30</td>\n",
              "      <td>0</td>\n",
              "    </tr>\n",
              "    <tr>\n",
              "      <th>766</th>\n",
              "      <td>1</td>\n",
              "      <td>126</td>\n",
              "      <td>60</td>\n",
              "      <td>0</td>\n",
              "      <td>0</td>\n",
              "      <td>30.1</td>\n",
              "      <td>0.349</td>\n",
              "      <td>47</td>\n",
              "      <td>1</td>\n",
              "    </tr>\n",
              "    <tr>\n",
              "      <th>767</th>\n",
              "      <td>1</td>\n",
              "      <td>93</td>\n",
              "      <td>70</td>\n",
              "      <td>31</td>\n",
              "      <td>0</td>\n",
              "      <td>30.4</td>\n",
              "      <td>0.315</td>\n",
              "      <td>23</td>\n",
              "      <td>0</td>\n",
              "    </tr>\n",
              "  </tbody>\n",
              "</table>\n",
              "<p>768 rows × 9 columns</p>\n",
              "</div>"
            ],
            "text/plain": [
              "     Pregnancies  Glucose  ...  Age  Outcome\n",
              "0              6      148  ...   50        1\n",
              "1              1       85  ...   31        0\n",
              "2              8      183  ...   32        1\n",
              "3              1       89  ...   21        0\n",
              "4              0      137  ...   33        1\n",
              "..           ...      ...  ...  ...      ...\n",
              "763           10      101  ...   63        0\n",
              "764            2      122  ...   27        0\n",
              "765            5      121  ...   30        0\n",
              "766            1      126  ...   47        1\n",
              "767            1       93  ...   23        0\n",
              "\n",
              "[768 rows x 9 columns]"
            ]
          },
          "metadata": {
            "tags": []
          },
          "execution_count": 9
        }
      ]
    },
    {
      "cell_type": "code",
      "metadata": {
        "id": "BXAaDQhNU435",
        "colab": {
          "base_uri": "https://localhost:8080/",
          "height": 313
        },
        "outputId": "4072eca0-4698-46c3-fd0e-9dab7622171d"
      },
      "source": [
        "diabet = df_can[['Glucose','Insulin']]\n",
        "fig, ax = plt.subplots()\n",
        "ax.scatter(diabet['Glucose'], diabet['Insulin'], color='rebeccapurple',alpha=0.5)\n",
        "ax.set_xlabel('Glucose', fontsize=15)\n",
        "ax.set_ylabel('Insulin', fontsize=15)\n",
        "ax.set_title('Distribusi Data Glucose dan Insulin')\n",
        "ax.grid(True)\n",
        "fig.tight_layout()\n",
        "plt.show\n"
      ],
      "execution_count": 36,
      "outputs": [
        {
          "output_type": "execute_result",
          "data": {
            "text/plain": [
              "<function matplotlib.pyplot.show>"
            ]
          },
          "metadata": {
            "tags": []
          },
          "execution_count": 36
        },
        {
          "output_type": "display_data",
          "data": {
            "image/png": "[encoded data removed]",
            "text/plain": [
              "<Figure size 432x288 with 1 Axes>"
            ]
          },
          "metadata": {
            "tags": [],
            "needs_background": "light"
          }
        }
      ]
    },
    {
      "cell_type": "code",
      "metadata": {
        "colab": {
          "base_uri": "https://localhost:8080/",
          "height": 296
        },
        "id": "4c0pW8ExLWD9",
        "outputId": "0564d906-948b-40d2-b277-50df548f1704"
      },
      "source": [
        "sns.lineplot(x='Glucose', y='Insulin', hue='Outcome', data=df_can)"
      ],
      "execution_count": 35,
      "outputs": [
        {
          "output_type": "execute_result",
          "data": {
            "text/plain": [
              "<matplotlib.axes._subplots.AxesSubplot at 0x7f7f0d70ded0>"
            ]
          },
          "metadata": {
            "tags": []
          },
          "execution_count": 35
        },
        {
          "output_type": "display_data",
          "data": {
            "image/png": "[encoded data removed]",
            "text/plain": [
              "<Figure size 432x288 with 1 Axes>"
            ]
          },
          "metadata": {
            "tags": [],
            "needs_background": "light"
          }
        }
      ]
    },
    {
      "cell_type": "markdown",
      "metadata": {
        "id": "H1Awnu6gaG-M"
      },
      "source": [
        "#### Penjelasan\n",
        "\n",
        "Pada kasus ini saya menggunakan scatterplot dan lineplot agar memudahkan dalam melihat persebaran/distribusi data untuk variabel Glucose dan Insulin. Berdasarkan hasil tersebut dapat dilihat, nilai variabel Glucose lebih bervariasi daripada nilai Insulin yang rata-rata memiliki nilai 0. Selain itu pada lineplot dapat dilihat Outcome yang dimiliki oleh masing-masing data sebagai target.  \n"
      ]
    },
    {
      "cell_type": "markdown",
      "metadata": {
        "id": "q8bWLdgGaG-M"
      },
      "source": [
        "### Soal 2 (25 poin)\n",
        "Tampilkan visualisasi dari korelasi (i) antar variabel dan (ii) antara variabel dan target, lalu jelaskan hasil korelasinya."
      ]
    },
    {
      "cell_type": "markdown",
      "metadata": {
        "id": "L12FK5t0aG-M"
      },
      "source": [
        "#### Code"
      ]
    },
    {
      "cell_type": "code",
      "metadata": {
        "id": "T9jGaiPJaG-M",
        "colab": {
          "base_uri": "https://localhost:8080/",
          "height": 716
        },
        "outputId": "bd89ebfb-b5bc-43bb-95b9-f246e3caaa53"
      },
      "source": [
        "# type your code here\n",
        "plt.figure(figsize = (15,10))\n",
        "sns.heatmap(df_can.corr(), annot = True)\n",
        "plt.show()"
      ],
      "execution_count": 37,
      "outputs": [
        {
          "output_type": "display_data",
          "data": {
            "image/png": "[encoded data removed]",
            "text/plain": [
              "<Figure size 1080x720 with 2 Axes>"
            ]
          },
          "metadata": {
            "tags": [],
            "needs_background": "light"
          }
        }
      ]
    },
    {
      "cell_type": "markdown",
      "metadata": {
        "id": "xXADoOryaG-M"
      },
      "source": [
        "#### Penjelasan \n",
        "Untuk mengetahui setiap korelasi antar variable dan target saya menggunakan heatmap karena data akan terkalkulasi secara otomatis "
      ]
    },
    {
      "cell_type": "markdown",
      "metadata": {
        "id": "ODhxqr8zaG-M"
      },
      "source": [
        "### Kasus 2: Stock Market Analysis (Soal 3 - 4)\n",
        "Pada kasus ini, kita akan membandingkan beberapa parameter yang diturunkan dari data historis harga saham dari 3 perusahaan, yaitu Nasdaq, Nikkei dan Hang Seng. Data set dapat diunduh melalui [tautan ini](https://www.dl.dropboxusercontent.com/s/0wny6x5sio9nvap/stock_market.zip?dl=0)."
      ]
    },
    {
      "cell_type": "markdown",
      "metadata": {
        "id": "cLBB2lqraG-N"
      },
      "source": [
        "### Soal 3 (30 poin)\n",
        "Lakukanlah _trend analysis_ nilai _daily percentage change_ dari ketiga harga saham tersebut selama tahun 2019, lalu tampilkan dan jelaskan melalui visualisasi data.\n",
        "_Trend analysis_ dilakukan dengan menggunakan hubungan berikut:\n",
        "![output%2011.png](https://www.dl.dropboxusercontent.com/s/dxmrm74ksz5l9v2/trend_analysis_fig.png?dl=0)"
      ]
    },
    {
      "cell_type": "markdown",
      "metadata": {
        "id": "UCZCNUVqaG-N"
      },
      "source": [
        "#### Code"
      ]
    },
    {
      "cell_type": "markdown",
      "metadata": {
        "id": "VZ1olX8ykVFy"
      },
      "source": [
        "# Hang Seng"
      ]
    },
    {
      "cell_type": "code",
      "metadata": {
        "id": "Nc9L-MyeaG-N",
        "colab": {
          "base_uri": "https://localhost:8080/",
          "height": 197
        },
        "outputId": "2da6329d-9e1c-4449-da2f-f77635e9592a"
      },
      "source": [
        "# type your code here\n",
        "df_hs = pd.read_csv('Hang_Seng.csv')\n",
        "df_hs.head()"
      ],
      "execution_count": 48,
      "outputs": [
        {
          "output_type": "execute_result",
          "data": {
            "text/html": [
              "<div>\n",
              "<style scoped>\n",
              "    .dataframe tbody tr th:only-of-type {\n",
              "        vertical-align: middle;\n",
              "    }\n",
              "\n",
              "    .dataframe tbody tr th {\n",
              "        vertical-align: top;\n",
              "    }\n",
              "\n",
              "    .dataframe thead th {\n",
              "        text-align: right;\n",
              "    }\n",
              "</style>\n",
              "<table border=\"1\" class=\"dataframe\">\n",
              "  <thead>\n",
              "    <tr style=\"text-align: right;\">\n",
              "      <th></th>\n",
              "      <th>Date</th>\n",
              "      <th>Open</th>\n",
              "      <th>High</th>\n",
              "      <th>Low</th>\n",
              "      <th>Close</th>\n",
              "      <th>Adj Close</th>\n",
              "      <th>Volume</th>\n",
              "    </tr>\n",
              "  </thead>\n",
              "  <tbody>\n",
              "    <tr>\n",
              "      <th>0</th>\n",
              "      <td>2018-10-19</td>\n",
              "      <td>25172.029297</td>\n",
              "      <td>25743.449219</td>\n",
              "      <td>25090.300781</td>\n",
              "      <td>25561.400391</td>\n",
              "      <td>25561.400391</td>\n",
              "      <td>2.037872e+09</td>\n",
              "    </tr>\n",
              "    <tr>\n",
              "      <th>1</th>\n",
              "      <td>2018-10-22</td>\n",
              "      <td>25668.330078</td>\n",
              "      <td>26234.859375</td>\n",
              "      <td>25668.330078</td>\n",
              "      <td>26153.150391</td>\n",
              "      <td>26153.150391</td>\n",
              "      <td>2.222812e+09</td>\n",
              "    </tr>\n",
              "    <tr>\n",
              "      <th>2</th>\n",
              "      <td>2018-10-23</td>\n",
              "      <td>26015.490234</td>\n",
              "      <td>26015.490234</td>\n",
              "      <td>25315.759766</td>\n",
              "      <td>25346.550781</td>\n",
              "      <td>25346.550781</td>\n",
              "      <td>1.772912e+09</td>\n",
              "    </tr>\n",
              "    <tr>\n",
              "      <th>3</th>\n",
              "      <td>2018-10-24</td>\n",
              "      <td>25401.169922</td>\n",
              "      <td>25653.359375</td>\n",
              "      <td>25194.289063</td>\n",
              "      <td>25249.779297</td>\n",
              "      <td>25249.779297</td>\n",
              "      <td>1.962754e+09</td>\n",
              "    </tr>\n",
              "    <tr>\n",
              "      <th>4</th>\n",
              "      <td>2018-10-25</td>\n",
              "      <td>24766.720703</td>\n",
              "      <td>24994.460938</td>\n",
              "      <td>24653.789063</td>\n",
              "      <td>24994.460938</td>\n",
              "      <td>24994.460938</td>\n",
              "      <td>2.288634e+09</td>\n",
              "    </tr>\n",
              "  </tbody>\n",
              "</table>\n",
              "</div>"
            ],
            "text/plain": [
              "         Date          Open  ...     Adj Close        Volume\n",
              "0  2018-10-19  25172.029297  ...  25561.400391  2.037872e+09\n",
              "1  2018-10-22  25668.330078  ...  26153.150391  2.222812e+09\n",
              "2  2018-10-23  26015.490234  ...  25346.550781  1.772912e+09\n",
              "3  2018-10-24  25401.169922  ...  25249.779297  1.962754e+09\n",
              "4  2018-10-25  24766.720703  ...  24994.460938  2.288634e+09\n",
              "\n",
              "[5 rows x 7 columns]"
            ]
          },
          "metadata": {
            "tags": []
          },
          "execution_count": 48
        }
      ]
    },
    {
      "cell_type": "code",
      "metadata": {
        "colab": {
          "base_uri": "https://localhost:8080/"
        },
        "id": "aJeib29mb9KM",
        "outputId": "15ceb909-93ad-46bd-f509-54c4c2a8cdcb"
      },
      "source": [
        "df_hs.isnull().sum()"
      ],
      "execution_count": 46,
      "outputs": [
        {
          "output_type": "execute_result",
          "data": {
            "text/plain": [
              "Date         0\n",
              "Open         1\n",
              "High         1\n",
              "Low          1\n",
              "Close        1\n",
              "Adj Close    1\n",
              "Volume       1\n",
              "dtype: int64"
            ]
          },
          "metadata": {
            "tags": []
          },
          "execution_count": 46
        }
      ]
    },
    {
      "cell_type": "code",
      "metadata": {
        "colab": {
          "base_uri": "https://localhost:8080/",
          "height": 107
        },
        "id": "SNd8kLQCgbSN",
        "outputId": "1fdd73ff-7ec8-49b2-bed2-995f75e2deb7"
      },
      "source": [
        "df_hs['Date'] = pd.to_datetime(df_hs['Date'])\n",
        "df_hs['year'] = df_hs['Date'].dt.year\n",
        "df_hst = df_hs[df_hs['year']== 2019]\n",
        "df_hst.head(2)"
      ],
      "execution_count": 53,
      "outputs": [
        {
          "output_type": "execute_result",
          "data": {
            "text/html": [
              "<div>\n",
              "<style scoped>\n",
              "    .dataframe tbody tr th:only-of-type {\n",
              "        vertical-align: middle;\n",
              "    }\n",
              "\n",
              "    .dataframe tbody tr th {\n",
              "        vertical-align: top;\n",
              "    }\n",
              "\n",
              "    .dataframe thead th {\n",
              "        text-align: right;\n",
              "    }\n",
              "</style>\n",
              "<table border=\"1\" class=\"dataframe\">\n",
              "  <thead>\n",
              "    <tr style=\"text-align: right;\">\n",
              "      <th></th>\n",
              "      <th>Date</th>\n",
              "      <th>Open</th>\n",
              "      <th>High</th>\n",
              "      <th>Low</th>\n",
              "      <th>Close</th>\n",
              "      <th>Adj Close</th>\n",
              "      <th>Volume</th>\n",
              "      <th>year</th>\n",
              "    </tr>\n",
              "  </thead>\n",
              "  <tbody>\n",
              "    <tr>\n",
              "      <th>50</th>\n",
              "      <td>2019-01-02</td>\n",
              "      <td>25824.439453</td>\n",
              "      <td>25824.439453</td>\n",
              "      <td>25055.269531</td>\n",
              "      <td>25130.349609</td>\n",
              "      <td>25130.349609</td>\n",
              "      <td>1.666316e+09</td>\n",
              "      <td>2019</td>\n",
              "    </tr>\n",
              "    <tr>\n",
              "      <th>51</th>\n",
              "      <td>2019-01-03</td>\n",
              "      <td>25077.679688</td>\n",
              "      <td>25262.210938</td>\n",
              "      <td>24896.869141</td>\n",
              "      <td>25064.359375</td>\n",
              "      <td>25064.359375</td>\n",
              "      <td>1.481292e+09</td>\n",
              "      <td>2019</td>\n",
              "    </tr>\n",
              "  </tbody>\n",
              "</table>\n",
              "</div>"
            ],
            "text/plain": [
              "         Date          Open          High  ...     Adj Close        Volume  year\n",
              "50 2019-01-02  25824.439453  25824.439453  ...  25130.349609  1.666316e+09  2019\n",
              "51 2019-01-03  25077.679688  25262.210938  ...  25064.359375  1.481292e+09  2019\n",
              "\n",
              "[2 rows x 8 columns]"
            ]
          },
          "metadata": {
            "tags": []
          },
          "execution_count": 53
        }
      ]
    },
    {
      "cell_type": "code",
      "metadata": {
        "id": "LcFv0SRYis9a"
      },
      "source": [
        "df_hs.dropna(inplace= True, axis = 0)"
      ],
      "execution_count": 55,
      "outputs": []
    },
    {
      "cell_type": "code",
      "metadata": {
        "colab": {
          "base_uri": "https://localhost:8080/",
          "height": 287
        },
        "id": "jmJgeW5siHOs",
        "outputId": "c6b88120-2485-441a-ec9d-95edd66d1cdc"
      },
      "source": [
        "df_hs.iloc[-90:].describe().astype(int)"
      ],
      "execution_count": 56,
      "outputs": [
        {
          "output_type": "execute_result",
          "data": {
            "text/html": [
              "<div>\n",
              "<style scoped>\n",
              "    .dataframe tbody tr th:only-of-type {\n",
              "        vertical-align: middle;\n",
              "    }\n",
              "\n",
              "    .dataframe tbody tr th {\n",
              "        vertical-align: top;\n",
              "    }\n",
              "\n",
              "    .dataframe thead th {\n",
              "        text-align: right;\n",
              "    }\n",
              "</style>\n",
              "<table border=\"1\" class=\"dataframe\">\n",
              "  <thead>\n",
              "    <tr style=\"text-align: right;\">\n",
              "      <th></th>\n",
              "      <th>Open</th>\n",
              "      <th>High</th>\n",
              "      <th>Low</th>\n",
              "      <th>Close</th>\n",
              "      <th>Adj Close</th>\n",
              "      <th>Volume</th>\n",
              "      <th>year</th>\n",
              "    </tr>\n",
              "  </thead>\n",
              "  <tbody>\n",
              "    <tr>\n",
              "      <th>count</th>\n",
              "      <td>90</td>\n",
              "      <td>90</td>\n",
              "      <td>90</td>\n",
              "      <td>90</td>\n",
              "      <td>90</td>\n",
              "      <td>90</td>\n",
              "      <td>90</td>\n",
              "    </tr>\n",
              "    <tr>\n",
              "      <th>mean</th>\n",
              "      <td>24819</td>\n",
              "      <td>24973</td>\n",
              "      <td>24586</td>\n",
              "      <td>24762</td>\n",
              "      <td>24762</td>\n",
              "      <td>1847891047</td>\n",
              "      <td>2020</td>\n",
              "    </tr>\n",
              "    <tr>\n",
              "      <th>std</th>\n",
              "      <td>652</td>\n",
              "      <td>662</td>\n",
              "      <td>621</td>\n",
              "      <td>642</td>\n",
              "      <td>642</td>\n",
              "      <td>635710242</td>\n",
              "      <td>0</td>\n",
              "    </tr>\n",
              "    <tr>\n",
              "      <th>min</th>\n",
              "      <td>23284</td>\n",
              "      <td>23495</td>\n",
              "      <td>23124</td>\n",
              "      <td>23235</td>\n",
              "      <td>23235</td>\n",
              "      <td>0</td>\n",
              "      <td>2020</td>\n",
              "    </tr>\n",
              "    <tr>\n",
              "      <th>25%</th>\n",
              "      <td>24382</td>\n",
              "      <td>24572</td>\n",
              "      <td>24200</td>\n",
              "      <td>24434</td>\n",
              "      <td>24434</td>\n",
              "      <td>1459246075</td>\n",
              "      <td>2020</td>\n",
              "    </tr>\n",
              "    <tr>\n",
              "      <th>50%</th>\n",
              "      <td>24816</td>\n",
              "      <td>24957</td>\n",
              "      <td>24581</td>\n",
              "      <td>24729</td>\n",
              "      <td>24729</td>\n",
              "      <td>1750760150</td>\n",
              "      <td>2020</td>\n",
              "    </tr>\n",
              "    <tr>\n",
              "      <th>75%</th>\n",
              "      <td>25232</td>\n",
              "      <td>25359</td>\n",
              "      <td>25034</td>\n",
              "      <td>25178</td>\n",
              "      <td>25178</td>\n",
              "      <td>2097051475</td>\n",
              "      <td>2020</td>\n",
              "    </tr>\n",
              "    <tr>\n",
              "      <th>max</th>\n",
              "      <td>26571</td>\n",
              "      <td>26782</td>\n",
              "      <td>26016</td>\n",
              "      <td>26339</td>\n",
              "      <td>26339</td>\n",
              "      <td>4883381900</td>\n",
              "      <td>2020</td>\n",
              "    </tr>\n",
              "  </tbody>\n",
              "</table>\n",
              "</div>"
            ],
            "text/plain": [
              "        Open   High    Low  Close  Adj Close      Volume  year\n",
              "count     90     90     90     90         90          90    90\n",
              "mean   24819  24973  24586  24762      24762  1847891047  2020\n",
              "std      652    662    621    642        642   635710242     0\n",
              "min    23284  23495  23124  23235      23235           0  2020\n",
              "25%    24382  24572  24200  24434      24434  1459246075  2020\n",
              "50%    24816  24957  24581  24729      24729  1750760150  2020\n",
              "75%    25232  25359  25034  25178      25178  2097051475  2020\n",
              "max    26571  26782  26016  26339      26339  4883381900  2020"
            ]
          },
          "metadata": {
            "tags": []
          },
          "execution_count": 56
        }
      ]
    },
    {
      "cell_type": "code",
      "metadata": {
        "id": "lzzArLoTi-J4"
      },
      "source": [
        "df_hs.index = df_hs['Date']"
      ],
      "execution_count": 60,
      "outputs": []
    },
    {
      "cell_type": "code",
      "metadata": {
        "colab": {
          "base_uri": "https://localhost:8080/",
          "height": 227
        },
        "id": "Z-fvQ11ojK2q",
        "outputId": "3030144f-2902-4574-9a81-0f579adf6f98"
      },
      "source": [
        "df_hs['DailyPercChange'] = df_hs['Adj Close'].pct_change()*100\n",
        "df_hs.head()"
      ],
      "execution_count": 141,
      "outputs": [
        {
          "output_type": "execute_result",
          "data": {
            "text/html": [
              "<div>\n",
              "<style scoped>\n",
              "    .dataframe tbody tr th:only-of-type {\n",
              "        vertical-align: middle;\n",
              "    }\n",
              "\n",
              "    .dataframe tbody tr th {\n",
              "        vertical-align: top;\n",
              "    }\n",
              "\n",
              "    .dataframe thead th {\n",
              "        text-align: right;\n",
              "    }\n",
              "</style>\n",
              "<table border=\"1\" class=\"dataframe\">\n",
              "  <thead>\n",
              "    <tr style=\"text-align: right;\">\n",
              "      <th></th>\n",
              "      <th>Date</th>\n",
              "      <th>Open</th>\n",
              "      <th>High</th>\n",
              "      <th>Low</th>\n",
              "      <th>Close</th>\n",
              "      <th>Adj Close</th>\n",
              "      <th>Volume</th>\n",
              "      <th>year</th>\n",
              "      <th>DayliPercChange</th>\n",
              "      <th>trends</th>\n",
              "      <th>DailyPercChange</th>\n",
              "    </tr>\n",
              "    <tr>\n",
              "      <th>Date</th>\n",
              "      <th></th>\n",
              "      <th></th>\n",
              "      <th></th>\n",
              "      <th></th>\n",
              "      <th></th>\n",
              "      <th></th>\n",
              "      <th></th>\n",
              "      <th></th>\n",
              "      <th></th>\n",
              "      <th></th>\n",
              "      <th></th>\n",
              "    </tr>\n",
              "  </thead>\n",
              "  <tbody>\n",
              "    <tr>\n",
              "      <th>2018-10-19</th>\n",
              "      <td>2018-10-19</td>\n",
              "      <td>25172.029297</td>\n",
              "      <td>25743.449219</td>\n",
              "      <td>25090.300781</td>\n",
              "      <td>25561.400391</td>\n",
              "      <td>25561.400391</td>\n",
              "      <td>2.037872e+09</td>\n",
              "      <td>2018</td>\n",
              "      <td>NaN</td>\n",
              "      <td>None</td>\n",
              "      <td>NaN</td>\n",
              "    </tr>\n",
              "    <tr>\n",
              "      <th>2018-10-22</th>\n",
              "      <td>2018-10-22</td>\n",
              "      <td>25668.330078</td>\n",
              "      <td>26234.859375</td>\n",
              "      <td>25668.330078</td>\n",
              "      <td>26153.150391</td>\n",
              "      <td>26153.150391</td>\n",
              "      <td>2.222812e+09</td>\n",
              "      <td>2018</td>\n",
              "      <td>2.315014</td>\n",
              "      <td>Positive</td>\n",
              "      <td>2.315014</td>\n",
              "    </tr>\n",
              "    <tr>\n",
              "      <th>2018-10-23</th>\n",
              "      <td>2018-10-23</td>\n",
              "      <td>26015.490234</td>\n",
              "      <td>26015.490234</td>\n",
              "      <td>25315.759766</td>\n",
              "      <td>25346.550781</td>\n",
              "      <td>25346.550781</td>\n",
              "      <td>1.772912e+09</td>\n",
              "      <td>2018</td>\n",
              "      <td>-3.084139</td>\n",
              "      <td>Among top losers</td>\n",
              "      <td>-3.084139</td>\n",
              "    </tr>\n",
              "    <tr>\n",
              "      <th>2018-10-24</th>\n",
              "      <td>2018-10-24</td>\n",
              "      <td>25401.169922</td>\n",
              "      <td>25653.359375</td>\n",
              "      <td>25194.289063</td>\n",
              "      <td>25249.779297</td>\n",
              "      <td>25249.779297</td>\n",
              "      <td>1.962754e+09</td>\n",
              "      <td>2018</td>\n",
              "      <td>-0.381794</td>\n",
              "      <td>Slight or No change</td>\n",
              "      <td>-0.381794</td>\n",
              "    </tr>\n",
              "    <tr>\n",
              "      <th>2018-10-25</th>\n",
              "      <td>2018-10-25</td>\n",
              "      <td>24766.720703</td>\n",
              "      <td>24994.460938</td>\n",
              "      <td>24653.789063</td>\n",
              "      <td>24994.460938</td>\n",
              "      <td>24994.460938</td>\n",
              "      <td>2.288634e+09</td>\n",
              "      <td>2018</td>\n",
              "      <td>-1.011171</td>\n",
              "      <td>Negative</td>\n",
              "      <td>-1.011171</td>\n",
              "    </tr>\n",
              "  </tbody>\n",
              "</table>\n",
              "</div>"
            ],
            "text/plain": [
              "                 Date          Open  ...               trends  DailyPercChange\n",
              "Date                                 ...                                      \n",
              "2018-10-19 2018-10-19  25172.029297  ...                 None              NaN\n",
              "2018-10-22 2018-10-22  25668.330078  ...             Positive         2.315014\n",
              "2018-10-23 2018-10-23  26015.490234  ...     Among top losers        -3.084139\n",
              "2018-10-24 2018-10-24  25401.169922  ...  Slight or No change        -0.381794\n",
              "2018-10-25 2018-10-25  24766.720703  ...             Negative        -1.011171\n",
              "\n",
              "[5 rows x 11 columns]"
            ]
          },
          "metadata": {
            "tags": []
          },
          "execution_count": 141
        }
      ]
    },
    {
      "cell_type": "markdown",
      "metadata": {
        "id": "-oLyG0tVka56"
      },
      "source": [
        "# Nasdaq"
      ]
    },
    {
      "cell_type": "code",
      "metadata": {
        "id": "iQZTjsiGkgIT"
      },
      "source": [
        "df_nas = pd.read_csv('Nasdaq.csv')\n",
        "df_nas.head()"
      ],
      "execution_count": null,
      "outputs": []
    },
    {
      "cell_type": "code",
      "metadata": {
        "colab": {
          "base_uri": "https://localhost:8080/"
        },
        "id": "-0tANu8VmKqs",
        "outputId": "43848f8a-d8bf-4b74-cd7c-4f35e9b27198"
      },
      "source": [
        "df_nas.isnull().sum()"
      ],
      "execution_count": 68,
      "outputs": [
        {
          "output_type": "execute_result",
          "data": {
            "text/plain": [
              "Date         0\n",
              "Open         0\n",
              "High         0\n",
              "Low          0\n",
              "Close        0\n",
              "Adj Close    0\n",
              "Volume       0\n",
              "dtype: int64"
            ]
          },
          "metadata": {
            "tags": []
          },
          "execution_count": 68
        }
      ]
    },
    {
      "cell_type": "code",
      "metadata": {
        "colab": {
          "base_uri": "https://localhost:8080/",
          "height": 107
        },
        "id": "QCC5XfKZmnhg",
        "outputId": "2ae4cf50-0b30-4785-d9a1-0a2ecb5d4cbd"
      },
      "source": [
        "df_nas['Date'] = pd.to_datetime(df_nas['Date'])\n",
        "df_nas['year'] = df_nas['Date'].dt.year\n",
        "df_nast = df_nas[df_nas['year']== 2019]\n",
        "df_nast.head(2)"
      ],
      "execution_count": 69,
      "outputs": [
        {
          "output_type": "execute_result",
          "data": {
            "text/html": [
              "<div>\n",
              "<style scoped>\n",
              "    .dataframe tbody tr th:only-of-type {\n",
              "        vertical-align: middle;\n",
              "    }\n",
              "\n",
              "    .dataframe tbody tr th {\n",
              "        vertical-align: top;\n",
              "    }\n",
              "\n",
              "    .dataframe thead th {\n",
              "        text-align: right;\n",
              "    }\n",
              "</style>\n",
              "<table border=\"1\" class=\"dataframe\">\n",
              "  <thead>\n",
              "    <tr style=\"text-align: right;\">\n",
              "      <th></th>\n",
              "      <th>Date</th>\n",
              "      <th>Open</th>\n",
              "      <th>High</th>\n",
              "      <th>Low</th>\n",
              "      <th>Close</th>\n",
              "      <th>Adj Close</th>\n",
              "      <th>Volume</th>\n",
              "      <th>year</th>\n",
              "    </tr>\n",
              "  </thead>\n",
              "  <tbody>\n",
              "    <tr>\n",
              "      <th>49</th>\n",
              "      <td>2019-01-02</td>\n",
              "      <td>6506.910156</td>\n",
              "      <td>6693.709961</td>\n",
              "      <td>6506.879883</td>\n",
              "      <td>6665.939941</td>\n",
              "      <td>6665.939941</td>\n",
              "      <td>2261800000</td>\n",
              "      <td>2019</td>\n",
              "    </tr>\n",
              "    <tr>\n",
              "      <th>50</th>\n",
              "      <td>2019-01-03</td>\n",
              "      <td>6584.770020</td>\n",
              "      <td>6600.209961</td>\n",
              "      <td>6457.129883</td>\n",
              "      <td>6463.500000</td>\n",
              "      <td>6463.500000</td>\n",
              "      <td>2607290000</td>\n",
              "      <td>2019</td>\n",
              "    </tr>\n",
              "  </tbody>\n",
              "</table>\n",
              "</div>"
            ],
            "text/plain": [
              "         Date         Open         High  ...    Adj Close      Volume  year\n",
              "49 2019-01-02  6506.910156  6693.709961  ...  6665.939941  2261800000  2019\n",
              "50 2019-01-03  6584.770020  6600.209961  ...  6463.500000  2607290000  2019\n",
              "\n",
              "[2 rows x 8 columns]"
            ]
          },
          "metadata": {
            "tags": []
          },
          "execution_count": 69
        }
      ]
    },
    {
      "cell_type": "code",
      "metadata": {
        "id": "NRGQJ1Dbm2lo"
      },
      "source": [
        "df_nas.dropna(inplace= True, axis = 0)"
      ],
      "execution_count": 70,
      "outputs": []
    },
    {
      "cell_type": "code",
      "metadata": {
        "colab": {
          "base_uri": "https://localhost:8080/",
          "height": 287
        },
        "id": "7VCKDxM4m4on",
        "outputId": "3ecdc41d-d836-427f-8255-ac9c78cad5d5"
      },
      "source": [
        "df_nas.iloc[-90:].describe().astype(int)"
      ],
      "execution_count": 74,
      "outputs": [
        {
          "output_type": "execute_result",
          "data": {
            "text/html": [
              "<div>\n",
              "<style scoped>\n",
              "    .dataframe tbody tr th:only-of-type {\n",
              "        vertical-align: middle;\n",
              "    }\n",
              "\n",
              "    .dataframe tbody tr th {\n",
              "        vertical-align: top;\n",
              "    }\n",
              "\n",
              "    .dataframe thead th {\n",
              "        text-align: right;\n",
              "    }\n",
              "</style>\n",
              "<table border=\"1\" class=\"dataframe\">\n",
              "  <thead>\n",
              "    <tr style=\"text-align: right;\">\n",
              "      <th></th>\n",
              "      <th>Open</th>\n",
              "      <th>High</th>\n",
              "      <th>Low</th>\n",
              "      <th>Close</th>\n",
              "      <th>Adj Close</th>\n",
              "      <th>Volume</th>\n",
              "      <th>year</th>\n",
              "    </tr>\n",
              "  </thead>\n",
              "  <tbody>\n",
              "    <tr>\n",
              "      <th>count</th>\n",
              "      <td>90</td>\n",
              "      <td>90</td>\n",
              "      <td>90</td>\n",
              "      <td>90</td>\n",
              "      <td>90</td>\n",
              "      <td>90</td>\n",
              "      <td>90</td>\n",
              "    </tr>\n",
              "    <tr>\n",
              "      <th>mean</th>\n",
              "      <td>10840</td>\n",
              "      <td>10930</td>\n",
              "      <td>10733</td>\n",
              "      <td>10841</td>\n",
              "      <td>10841</td>\n",
              "      <td>4093863777</td>\n",
              "      <td>2020</td>\n",
              "    </tr>\n",
              "    <tr>\n",
              "      <th>std</th>\n",
              "      <td>591</td>\n",
              "      <td>585</td>\n",
              "      <td>597</td>\n",
              "      <td>591</td>\n",
              "      <td>591</td>\n",
              "      <td>672381737</td>\n",
              "      <td>0</td>\n",
              "    </tr>\n",
              "    <tr>\n",
              "      <th>min</th>\n",
              "      <td>9426</td>\n",
              "      <td>9756</td>\n",
              "      <td>9403</td>\n",
              "      <td>9492</td>\n",
              "      <td>9492</td>\n",
              "      <td>2997810000</td>\n",
              "      <td>2020</td>\n",
              "    </tr>\n",
              "    <tr>\n",
              "      <th>25%</th>\n",
              "      <td>10445</td>\n",
              "      <td>10525</td>\n",
              "      <td>10371</td>\n",
              "      <td>10477</td>\n",
              "      <td>10477</td>\n",
              "      <td>3608095000</td>\n",
              "      <td>2020</td>\n",
              "    </tr>\n",
              "    <tr>\n",
              "      <th>50%</th>\n",
              "      <td>10921</td>\n",
              "      <td>10984</td>\n",
              "      <td>10807</td>\n",
              "      <td>10911</td>\n",
              "      <td>10911</td>\n",
              "      <td>4008355000</td>\n",
              "      <td>2020</td>\n",
              "    </tr>\n",
              "    <tr>\n",
              "      <th>75%</th>\n",
              "      <td>11220</td>\n",
              "      <td>11295</td>\n",
              "      <td>11119</td>\n",
              "      <td>11205</td>\n",
              "      <td>11205</td>\n",
              "      <td>4329237500</td>\n",
              "      <td>2020</td>\n",
              "    </tr>\n",
              "    <tr>\n",
              "      <th>max</th>\n",
              "      <td>12047</td>\n",
              "      <td>12074</td>\n",
              "      <td>11836</td>\n",
              "      <td>12056</td>\n",
              "      <td>12056</td>\n",
              "      <td>7279230000</td>\n",
              "      <td>2020</td>\n",
              "    </tr>\n",
              "  </tbody>\n",
              "</table>\n",
              "</div>"
            ],
            "text/plain": [
              "        Open   High    Low  Close  Adj Close      Volume  year\n",
              "count     90     90     90     90         90          90    90\n",
              "mean   10840  10930  10733  10841      10841  4093863777  2020\n",
              "std      591    585    597    591        591   672381737     0\n",
              "min     9426   9756   9403   9492       9492  2997810000  2020\n",
              "25%    10445  10525  10371  10477      10477  3608095000  2020\n",
              "50%    10921  10984  10807  10911      10911  4008355000  2020\n",
              "75%    11220  11295  11119  11205      11205  4329237500  2020\n",
              "max    12047  12074  11836  12056      12056  7279230000  2020"
            ]
          },
          "metadata": {
            "tags": []
          },
          "execution_count": 74
        }
      ]
    },
    {
      "cell_type": "code",
      "metadata": {
        "id": "Ff-1OJJOm8IO"
      },
      "source": [
        "df_nas.index = df_nas['Date']"
      ],
      "execution_count": 75,
      "outputs": []
    },
    {
      "cell_type": "code",
      "metadata": {
        "colab": {
          "base_uri": "https://localhost:8080/",
          "height": 227
        },
        "id": "K0HySH1gnAPd",
        "outputId": "30a37664-caa2-4f7e-861a-61fecfefe9c1"
      },
      "source": [
        "df_nas['DailyPercChange'] = df_nas['Adj Close'].pct_change()*100\n",
        "df_nas.head()"
      ],
      "execution_count": 142,
      "outputs": [
        {
          "output_type": "execute_result",
          "data": {
            "text/html": [
              "<div>\n",
              "<style scoped>\n",
              "    .dataframe tbody tr th:only-of-type {\n",
              "        vertical-align: middle;\n",
              "    }\n",
              "\n",
              "    .dataframe tbody tr th {\n",
              "        vertical-align: top;\n",
              "    }\n",
              "\n",
              "    .dataframe thead th {\n",
              "        text-align: right;\n",
              "    }\n",
              "</style>\n",
              "<table border=\"1\" class=\"dataframe\">\n",
              "  <thead>\n",
              "    <tr style=\"text-align: right;\">\n",
              "      <th></th>\n",
              "      <th>Date</th>\n",
              "      <th>Open</th>\n",
              "      <th>High</th>\n",
              "      <th>Low</th>\n",
              "      <th>Close</th>\n",
              "      <th>Adj Close</th>\n",
              "      <th>Volume</th>\n",
              "      <th>year</th>\n",
              "      <th>DayliPercChange</th>\n",
              "      <th>trends</th>\n",
              "      <th>DailyPercChange</th>\n",
              "    </tr>\n",
              "    <tr>\n",
              "      <th>Date</th>\n",
              "      <th></th>\n",
              "      <th></th>\n",
              "      <th></th>\n",
              "      <th></th>\n",
              "      <th></th>\n",
              "      <th></th>\n",
              "      <th></th>\n",
              "      <th></th>\n",
              "      <th></th>\n",
              "      <th></th>\n",
              "      <th></th>\n",
              "    </tr>\n",
              "  </thead>\n",
              "  <tbody>\n",
              "    <tr>\n",
              "      <th>2018-10-22</th>\n",
              "      <td>2018-10-22</td>\n",
              "      <td>7486.740234</td>\n",
              "      <td>7520.540039</td>\n",
              "      <td>7424.740234</td>\n",
              "      <td>7468.629883</td>\n",
              "      <td>7468.629883</td>\n",
              "      <td>2282400000</td>\n",
              "      <td>2018</td>\n",
              "      <td>NaN</td>\n",
              "      <td>None</td>\n",
              "      <td>NaN</td>\n",
              "    </tr>\n",
              "    <tr>\n",
              "      <th>2018-10-23</th>\n",
              "      <td>2018-10-23</td>\n",
              "      <td>7328.549805</td>\n",
              "      <td>7472.580078</td>\n",
              "      <td>7260.129883</td>\n",
              "      <td>7437.540039</td>\n",
              "      <td>7437.540039</td>\n",
              "      <td>2735820000</td>\n",
              "      <td>2018</td>\n",
              "      <td>-0.416272</td>\n",
              "      <td>Slight or No change</td>\n",
              "      <td>-0.416272</td>\n",
              "    </tr>\n",
              "    <tr>\n",
              "      <th>2018-10-24</th>\n",
              "      <td>2018-10-24</td>\n",
              "      <td>7423.209961</td>\n",
              "      <td>7435.689941</td>\n",
              "      <td>7099.000000</td>\n",
              "      <td>7108.399902</td>\n",
              "      <td>7108.399902</td>\n",
              "      <td>2935550000</td>\n",
              "      <td>2018</td>\n",
              "      <td>-4.425390</td>\n",
              "      <td>Among top losers</td>\n",
              "      <td>-4.425390</td>\n",
              "    </tr>\n",
              "    <tr>\n",
              "      <th>2018-10-25</th>\n",
              "      <td>2018-10-25</td>\n",
              "      <td>7197.490234</td>\n",
              "      <td>7364.819824</td>\n",
              "      <td>7178.540039</td>\n",
              "      <td>7318.339844</td>\n",
              "      <td>7318.339844</td>\n",
              "      <td>2741810000</td>\n",
              "      <td>2018</td>\n",
              "      <td>2.953406</td>\n",
              "      <td>Positive</td>\n",
              "      <td>2.953406</td>\n",
              "    </tr>\n",
              "    <tr>\n",
              "      <th>2018-10-26</th>\n",
              "      <td>2018-10-26</td>\n",
              "      <td>7125.180176</td>\n",
              "      <td>7283.319824</td>\n",
              "      <td>7057.000000</td>\n",
              "      <td>7167.209961</td>\n",
              "      <td>7167.209961</td>\n",
              "      <td>2964780000</td>\n",
              "      <td>2018</td>\n",
              "      <td>-2.065084</td>\n",
              "      <td>Negative</td>\n",
              "      <td>-2.065084</td>\n",
              "    </tr>\n",
              "  </tbody>\n",
              "</table>\n",
              "</div>"
            ],
            "text/plain": [
              "                 Date         Open  ...               trends  DailyPercChange\n",
              "Date                                ...                                      \n",
              "2018-10-22 2018-10-22  7486.740234  ...                 None              NaN\n",
              "2018-10-23 2018-10-23  7328.549805  ...  Slight or No change        -0.416272\n",
              "2018-10-24 2018-10-24  7423.209961  ...     Among top losers        -4.425390\n",
              "2018-10-25 2018-10-25  7197.490234  ...             Positive         2.953406\n",
              "2018-10-26 2018-10-26  7125.180176  ...             Negative        -2.065084\n",
              "\n",
              "[5 rows x 11 columns]"
            ]
          },
          "metadata": {
            "tags": []
          },
          "execution_count": 142
        }
      ]
    },
    {
      "cell_type": "markdown",
      "metadata": {
        "id": "LT_bPebCnOzC"
      },
      "source": [
        "# Nikkei"
      ]
    },
    {
      "cell_type": "code",
      "metadata": {
        "colab": {
          "base_uri": "https://localhost:8080/",
          "height": 197
        },
        "id": "CNGtSaWznbl9",
        "outputId": "5b296fd4-1abf-43ca-ea0f-8e16d2890fa3"
      },
      "source": [
        "df_nikk = pd.read_csv('Nikkei.csv')\n",
        "df_nikk.head()"
      ],
      "execution_count": 78,
      "outputs": [
        {
          "output_type": "execute_result",
          "data": {
            "text/html": [
              "<div>\n",
              "<style scoped>\n",
              "    .dataframe tbody tr th:only-of-type {\n",
              "        vertical-align: middle;\n",
              "    }\n",
              "\n",
              "    .dataframe tbody tr th {\n",
              "        vertical-align: top;\n",
              "    }\n",
              "\n",
              "    .dataframe thead th {\n",
              "        text-align: right;\n",
              "    }\n",
              "</style>\n",
              "<table border=\"1\" class=\"dataframe\">\n",
              "  <thead>\n",
              "    <tr style=\"text-align: right;\">\n",
              "      <th></th>\n",
              "      <th>Date</th>\n",
              "      <th>Open</th>\n",
              "      <th>High</th>\n",
              "      <th>Low</th>\n",
              "      <th>Close</th>\n",
              "      <th>Adj Close</th>\n",
              "      <th>Volume</th>\n",
              "    </tr>\n",
              "  </thead>\n",
              "  <tbody>\n",
              "    <tr>\n",
              "      <th>0</th>\n",
              "      <td>2018-10-19</td>\n",
              "      <td>22342.000000</td>\n",
              "      <td>22551.669922</td>\n",
              "      <td>22212.570313</td>\n",
              "      <td>22532.080078</td>\n",
              "      <td>22532.080078</td>\n",
              "      <td>67400.0</td>\n",
              "    </tr>\n",
              "    <tr>\n",
              "      <th>1</th>\n",
              "      <td>2018-10-22</td>\n",
              "      <td>22374.210938</td>\n",
              "      <td>22672.250000</td>\n",
              "      <td>22271.589844</td>\n",
              "      <td>22614.820313</td>\n",
              "      <td>22614.820313</td>\n",
              "      <td>63000.0</td>\n",
              "    </tr>\n",
              "    <tr>\n",
              "      <th>2</th>\n",
              "      <td>2018-10-23</td>\n",
              "      <td>22404.140625</td>\n",
              "      <td>22410.150391</td>\n",
              "      <td>21993.070313</td>\n",
              "      <td>22010.779297</td>\n",
              "      <td>22010.779297</td>\n",
              "      <td>80200.0</td>\n",
              "    </tr>\n",
              "    <tr>\n",
              "      <th>3</th>\n",
              "      <td>2018-10-24</td>\n",
              "      <td>22167.759766</td>\n",
              "      <td>22207.089844</td>\n",
              "      <td>21911.419922</td>\n",
              "      <td>22091.179688</td>\n",
              "      <td>22091.179688</td>\n",
              "      <td>83900.0</td>\n",
              "    </tr>\n",
              "    <tr>\n",
              "      <th>4</th>\n",
              "      <td>2018-10-25</td>\n",
              "      <td>21676.830078</td>\n",
              "      <td>21703.210938</td>\n",
              "      <td>21204.400391</td>\n",
              "      <td>21268.730469</td>\n",
              "      <td>21268.730469</td>\n",
              "      <td>93600.0</td>\n",
              "    </tr>\n",
              "  </tbody>\n",
              "</table>\n",
              "</div>"
            ],
            "text/plain": [
              "         Date          Open          High  ...         Close     Adj Close   Volume\n",
              "0  2018-10-19  22342.000000  22551.669922  ...  22532.080078  22532.080078  67400.0\n",
              "1  2018-10-22  22374.210938  22672.250000  ...  22614.820313  22614.820313  63000.0\n",
              "2  2018-10-23  22404.140625  22410.150391  ...  22010.779297  22010.779297  80200.0\n",
              "3  2018-10-24  22167.759766  22207.089844  ...  22091.179688  22091.179688  83900.0\n",
              "4  2018-10-25  21676.830078  21703.210938  ...  21268.730469  21268.730469  93600.0\n",
              "\n",
              "[5 rows x 7 columns]"
            ]
          },
          "metadata": {
            "tags": []
          },
          "execution_count": 78
        }
      ]
    },
    {
      "cell_type": "code",
      "metadata": {
        "colab": {
          "base_uri": "https://localhost:8080/"
        },
        "id": "SfVU6XBbnj2s",
        "outputId": "66166b8f-b387-4f8c-b7e2-48aff0ee38cd"
      },
      "source": [
        "df_nikk.isnull().sum()"
      ],
      "execution_count": 80,
      "outputs": [
        {
          "output_type": "execute_result",
          "data": {
            "text/plain": [
              "Date         0\n",
              "Open         3\n",
              "High         3\n",
              "Low          3\n",
              "Close        3\n",
              "Adj Close    3\n",
              "Volume       3\n",
              "dtype: int64"
            ]
          },
          "metadata": {
            "tags": []
          },
          "execution_count": 80
        }
      ]
    },
    {
      "cell_type": "code",
      "metadata": {
        "colab": {
          "base_uri": "https://localhost:8080/",
          "height": 107
        },
        "id": "A0m3cFGyn0bt",
        "outputId": "cba4d408-285f-43cf-eaf0-9d4e4fbaa7b4"
      },
      "source": [
        "df_nikk['Date'] = pd.to_datetime(df_nikk['Date'])\n",
        "df_nikk['year'] = df_nikk['Date'].dt.year\n",
        "df_nikkt = df_nikk[df_nikk['year']== 2019]\n",
        "df_nikkt.head(2)"
      ],
      "execution_count": 81,
      "outputs": [
        {
          "output_type": "execute_result",
          "data": {
            "text/html": [
              "<div>\n",
              "<style scoped>\n",
              "    .dataframe tbody tr th:only-of-type {\n",
              "        vertical-align: middle;\n",
              "    }\n",
              "\n",
              "    .dataframe tbody tr th {\n",
              "        vertical-align: top;\n",
              "    }\n",
              "\n",
              "    .dataframe thead th {\n",
              "        text-align: right;\n",
              "    }\n",
              "</style>\n",
              "<table border=\"1\" class=\"dataframe\">\n",
              "  <thead>\n",
              "    <tr style=\"text-align: right;\">\n",
              "      <th></th>\n",
              "      <th>Date</th>\n",
              "      <th>Open</th>\n",
              "      <th>High</th>\n",
              "      <th>Low</th>\n",
              "      <th>Close</th>\n",
              "      <th>Adj Close</th>\n",
              "      <th>Volume</th>\n",
              "      <th>year</th>\n",
              "    </tr>\n",
              "  </thead>\n",
              "  <tbody>\n",
              "    <tr>\n",
              "      <th>52</th>\n",
              "      <td>2019-01-04</td>\n",
              "      <td>19655.130859</td>\n",
              "      <td>19692.580078</td>\n",
              "      <td>19241.369141</td>\n",
              "      <td>19561.960938</td>\n",
              "      <td>19561.960938</td>\n",
              "      <td>91600.0</td>\n",
              "      <td>2019</td>\n",
              "    </tr>\n",
              "    <tr>\n",
              "      <th>53</th>\n",
              "      <td>2019-01-07</td>\n",
              "      <td>19944.609375</td>\n",
              "      <td>20266.220703</td>\n",
              "      <td>19920.800781</td>\n",
              "      <td>20038.970703</td>\n",
              "      <td>20038.970703</td>\n",
              "      <td>81500.0</td>\n",
              "      <td>2019</td>\n",
              "    </tr>\n",
              "  </tbody>\n",
              "</table>\n",
              "</div>"
            ],
            "text/plain": [
              "         Date          Open          High  ...     Adj Close   Volume  year\n",
              "52 2019-01-04  19655.130859  19692.580078  ...  19561.960938  91600.0  2019\n",
              "53 2019-01-07  19944.609375  20266.220703  ...  20038.970703  81500.0  2019\n",
              "\n",
              "[2 rows x 8 columns]"
            ]
          },
          "metadata": {
            "tags": []
          },
          "execution_count": 81
        }
      ]
    },
    {
      "cell_type": "code",
      "metadata": {
        "id": "hf23JmwuoFrj"
      },
      "source": [
        "df_nikk.dropna(inplace= True, axis = 0)"
      ],
      "execution_count": 88,
      "outputs": []
    },
    {
      "cell_type": "code",
      "metadata": {
        "colab": {
          "base_uri": "https://localhost:8080/",
          "height": 287
        },
        "id": "PCSaQSi8oQO6",
        "outputId": "5ca4daa6-3f20-4866-e3a6-16df85665a90"
      },
      "source": [
        "df_nikk.iloc[-90:].describe().astype(int)"
      ],
      "execution_count": 90,
      "outputs": [
        {
          "output_type": "execute_result",
          "data": {
            "text/html": [
              "<div>\n",
              "<style scoped>\n",
              "    .dataframe tbody tr th:only-of-type {\n",
              "        vertical-align: middle;\n",
              "    }\n",
              "\n",
              "    .dataframe tbody tr th {\n",
              "        vertical-align: top;\n",
              "    }\n",
              "\n",
              "    .dataframe thead th {\n",
              "        text-align: right;\n",
              "    }\n",
              "</style>\n",
              "<table border=\"1\" class=\"dataframe\">\n",
              "  <thead>\n",
              "    <tr style=\"text-align: right;\">\n",
              "      <th></th>\n",
              "      <th>Open</th>\n",
              "      <th>High</th>\n",
              "      <th>Low</th>\n",
              "      <th>Close</th>\n",
              "      <th>Adj Close</th>\n",
              "      <th>Volume</th>\n",
              "      <th>year</th>\n",
              "    </tr>\n",
              "  </thead>\n",
              "  <tbody>\n",
              "    <tr>\n",
              "      <th>count</th>\n",
              "      <td>90</td>\n",
              "      <td>90</td>\n",
              "      <td>90</td>\n",
              "      <td>90</td>\n",
              "      <td>90</td>\n",
              "      <td>90</td>\n",
              "      <td>90</td>\n",
              "    </tr>\n",
              "    <tr>\n",
              "      <th>mean</th>\n",
              "      <td>22906</td>\n",
              "      <td>23016</td>\n",
              "      <td>22787</td>\n",
              "      <td>22903</td>\n",
              "      <td>22903</td>\n",
              "      <td>66762</td>\n",
              "      <td>2020</td>\n",
              "    </tr>\n",
              "    <tr>\n",
              "      <th>std</th>\n",
              "      <td>457</td>\n",
              "      <td>433</td>\n",
              "      <td>498</td>\n",
              "      <td>482</td>\n",
              "      <td>482</td>\n",
              "      <td>20126</td>\n",
              "      <td>0</td>\n",
              "    </tr>\n",
              "    <tr>\n",
              "      <th>min</th>\n",
              "      <td>21912</td>\n",
              "      <td>22214</td>\n",
              "      <td>21529</td>\n",
              "      <td>21530</td>\n",
              "      <td>21530</td>\n",
              "      <td>0</td>\n",
              "      <td>2020</td>\n",
              "    </tr>\n",
              "    <tr>\n",
              "      <th>25%</th>\n",
              "      <td>22498</td>\n",
              "      <td>22633</td>\n",
              "      <td>22369</td>\n",
              "      <td>22518</td>\n",
              "      <td>22518</td>\n",
              "      <td>56150</td>\n",
              "      <td>2020</td>\n",
              "    </tr>\n",
              "    <tr>\n",
              "      <th>50%</th>\n",
              "      <td>22982</td>\n",
              "      <td>23103</td>\n",
              "      <td>22870</td>\n",
              "      <td>22965</td>\n",
              "      <td>22965</td>\n",
              "      <td>66000</td>\n",
              "      <td>2020</td>\n",
              "    </tr>\n",
              "    <tr>\n",
              "      <th>75%</th>\n",
              "      <td>23260</td>\n",
              "      <td>23374</td>\n",
              "      <td>23183</td>\n",
              "      <td>23290</td>\n",
              "      <td>23290</td>\n",
              "      <td>77600</td>\n",
              "      <td>2020</td>\n",
              "    </tr>\n",
              "    <tr>\n",
              "      <th>max</th>\n",
              "      <td>23713</td>\n",
              "      <td>23725</td>\n",
              "      <td>23552</td>\n",
              "      <td>23671</td>\n",
              "      <td>23671</td>\n",
              "      <td>120500</td>\n",
              "      <td>2020</td>\n",
              "    </tr>\n",
              "  </tbody>\n",
              "</table>\n",
              "</div>"
            ],
            "text/plain": [
              "        Open   High    Low  Close  Adj Close  Volume  year\n",
              "count     90     90     90     90         90      90    90\n",
              "mean   22906  23016  22787  22903      22903   66762  2020\n",
              "std      457    433    498    482        482   20126     0\n",
              "min    21912  22214  21529  21530      21530       0  2020\n",
              "25%    22498  22633  22369  22518      22518   56150  2020\n",
              "50%    22982  23103  22870  22965      22965   66000  2020\n",
              "75%    23260  23374  23183  23290      23290   77600  2020\n",
              "max    23713  23725  23552  23671      23671  120500  2020"
            ]
          },
          "metadata": {
            "tags": []
          },
          "execution_count": 90
        }
      ]
    },
    {
      "cell_type": "code",
      "metadata": {
        "id": "Bxyl_i8hoS1R"
      },
      "source": [
        "df_nikk.index = df_nikk['Date']"
      ],
      "execution_count": 126,
      "outputs": []
    },
    {
      "cell_type": "code",
      "metadata": {
        "colab": {
          "base_uri": "https://localhost:8080/",
          "height": 227
        },
        "id": "-35hv5RoomRn",
        "outputId": "feb24220-e066-44e6-8460-664078ccfeec"
      },
      "source": [
        "df_nikk['DailyPercChange'] = df_nikk['Adj Close'].pct_change()*100\n",
        "df_nikk.head()"
      ],
      "execution_count": 143,
      "outputs": [
        {
          "output_type": "execute_result",
          "data": {
            "text/html": [
              "<div>\n",
              "<style scoped>\n",
              "    .dataframe tbody tr th:only-of-type {\n",
              "        vertical-align: middle;\n",
              "    }\n",
              "\n",
              "    .dataframe tbody tr th {\n",
              "        vertical-align: top;\n",
              "    }\n",
              "\n",
              "    .dataframe thead th {\n",
              "        text-align: right;\n",
              "    }\n",
              "</style>\n",
              "<table border=\"1\" class=\"dataframe\">\n",
              "  <thead>\n",
              "    <tr style=\"text-align: right;\">\n",
              "      <th></th>\n",
              "      <th>Date</th>\n",
              "      <th>Open</th>\n",
              "      <th>High</th>\n",
              "      <th>Low</th>\n",
              "      <th>Close</th>\n",
              "      <th>Adj Close</th>\n",
              "      <th>Volume</th>\n",
              "      <th>year</th>\n",
              "      <th>DayliPercChange</th>\n",
              "      <th>trends</th>\n",
              "      <th>DailyPercChange</th>\n",
              "    </tr>\n",
              "    <tr>\n",
              "      <th>Date</th>\n",
              "      <th></th>\n",
              "      <th></th>\n",
              "      <th></th>\n",
              "      <th></th>\n",
              "      <th></th>\n",
              "      <th></th>\n",
              "      <th></th>\n",
              "      <th></th>\n",
              "      <th></th>\n",
              "      <th></th>\n",
              "      <th></th>\n",
              "    </tr>\n",
              "  </thead>\n",
              "  <tbody>\n",
              "    <tr>\n",
              "      <th>2018-10-19</th>\n",
              "      <td>2018-10-19</td>\n",
              "      <td>22342.000000</td>\n",
              "      <td>22551.669922</td>\n",
              "      <td>22212.570313</td>\n",
              "      <td>22532.080078</td>\n",
              "      <td>22532.080078</td>\n",
              "      <td>67400.0</td>\n",
              "      <td>2018</td>\n",
              "      <td>NaN</td>\n",
              "      <td>None</td>\n",
              "      <td>NaN</td>\n",
              "    </tr>\n",
              "    <tr>\n",
              "      <th>2018-10-22</th>\n",
              "      <td>2018-10-22</td>\n",
              "      <td>22374.210938</td>\n",
              "      <td>22672.250000</td>\n",
              "      <td>22271.589844</td>\n",
              "      <td>22614.820313</td>\n",
              "      <td>22614.820313</td>\n",
              "      <td>63000.0</td>\n",
              "      <td>2018</td>\n",
              "      <td>0.367211</td>\n",
              "      <td>Slight or No change</td>\n",
              "      <td>0.367211</td>\n",
              "    </tr>\n",
              "    <tr>\n",
              "      <th>2018-10-23</th>\n",
              "      <td>2018-10-23</td>\n",
              "      <td>22404.140625</td>\n",
              "      <td>22410.150391</td>\n",
              "      <td>21993.070313</td>\n",
              "      <td>22010.779297</td>\n",
              "      <td>22010.779297</td>\n",
              "      <td>80200.0</td>\n",
              "      <td>2018</td>\n",
              "      <td>-2.670996</td>\n",
              "      <td>Negative</td>\n",
              "      <td>-2.670996</td>\n",
              "    </tr>\n",
              "    <tr>\n",
              "      <th>2018-10-24</th>\n",
              "      <td>2018-10-24</td>\n",
              "      <td>22167.759766</td>\n",
              "      <td>22207.089844</td>\n",
              "      <td>21911.419922</td>\n",
              "      <td>22091.179688</td>\n",
              "      <td>22091.179688</td>\n",
              "      <td>83900.0</td>\n",
              "      <td>2018</td>\n",
              "      <td>0.365277</td>\n",
              "      <td>Slight or No change</td>\n",
              "      <td>0.365277</td>\n",
              "    </tr>\n",
              "    <tr>\n",
              "      <th>2018-10-25</th>\n",
              "      <td>2018-10-25</td>\n",
              "      <td>21676.830078</td>\n",
              "      <td>21703.210938</td>\n",
              "      <td>21204.400391</td>\n",
              "      <td>21268.730469</td>\n",
              "      <td>21268.730469</td>\n",
              "      <td>93600.0</td>\n",
              "      <td>2018</td>\n",
              "      <td>-3.722976</td>\n",
              "      <td>Among top losers</td>\n",
              "      <td>-3.722976</td>\n",
              "    </tr>\n",
              "  </tbody>\n",
              "</table>\n",
              "</div>"
            ],
            "text/plain": [
              "                 Date          Open  ...               trends  DailyPercChange\n",
              "Date                                 ...                                      \n",
              "2018-10-19 2018-10-19  22342.000000  ...                 None              NaN\n",
              "2018-10-22 2018-10-22  22374.210938  ...  Slight or No change         0.367211\n",
              "2018-10-23 2018-10-23  22404.140625  ...             Negative        -2.670996\n",
              "2018-10-24 2018-10-24  22167.759766  ...  Slight or No change         0.365277\n",
              "2018-10-25 2018-10-25  21676.830078  ...     Among top losers        -3.722976\n",
              "\n",
              "[5 rows x 11 columns]"
            ]
          },
          "metadata": {
            "tags": []
          },
          "execution_count": 143
        }
      ]
    },
    {
      "cell_type": "code",
      "metadata": {
        "id": "nOtUuOQoo1yz"
      },
      "source": [
        "# TRENDS 2019 \n",
        "def trends_19(x):\n",
        "    if x > -0.5 and x <= 0.5:\n",
        "        return \"Slight or No change\"\n",
        "    elif x > 0.5 and x <= 1:\n",
        "        return \"Slight Positive\"\n",
        "    elif x > -1 and x <= -0.5:\n",
        "        return \"Slight Negative\"\n",
        "    elif x > 1 and x <= 3:\n",
        "        return \"Positive\"\n",
        "    elif x > -3 and x <= -1:\n",
        "        return \"Negative\"\n",
        "    elif x > 3 and x <= 7:\n",
        "        return \"Among top gainers\"\n",
        "    elif x > -7 and x <= -3:\n",
        "        return \"Among top losers\"\n",
        "    elif x > 7:\n",
        "        return \"Bull run\"\n",
        "    elif x <= -7:\n",
        "        return \"Bear drop\""
      ],
      "execution_count": 122,
      "outputs": []
    },
    {
      "cell_type": "markdown",
      "metadata": {
        "id": "OIBeCSejqj9K"
      },
      "source": [
        "Trends 2019 Hang Seng"
      ]
    },
    {
      "cell_type": "code",
      "metadata": {
        "colab": {
          "base_uri": "https://localhost:8080/",
          "height": 227
        },
        "id": "Ub_Vn6WYp6Z0",
        "outputId": "c973329d-e335-4722-b658-384bbde3be7b"
      },
      "source": [
        "df_hs['trends']= df_hs['DailyPercChange'].apply(lambda x:trends_19(x))\n",
        "df_hs.head()"
      ],
      "execution_count": 144,
      "outputs": [
        {
          "output_type": "execute_result",
          "data": {
            "text/html": [
              "<div>\n",
              "<style scoped>\n",
              "    .dataframe tbody tr th:only-of-type {\n",
              "        vertical-align: middle;\n",
              "    }\n",
              "\n",
              "    .dataframe tbody tr th {\n",
              "        vertical-align: top;\n",
              "    }\n",
              "\n",
              "    .dataframe thead th {\n",
              "        text-align: right;\n",
              "    }\n",
              "</style>\n",
              "<table border=\"1\" class=\"dataframe\">\n",
              "  <thead>\n",
              "    <tr style=\"text-align: right;\">\n",
              "      <th></th>\n",
              "      <th>Date</th>\n",
              "      <th>Open</th>\n",
              "      <th>High</th>\n",
              "      <th>Low</th>\n",
              "      <th>Close</th>\n",
              "      <th>Adj Close</th>\n",
              "      <th>Volume</th>\n",
              "      <th>year</th>\n",
              "      <th>DayliPercChange</th>\n",
              "      <th>trends</th>\n",
              "      <th>DailyPercChange</th>\n",
              "    </tr>\n",
              "    <tr>\n",
              "      <th>Date</th>\n",
              "      <th></th>\n",
              "      <th></th>\n",
              "      <th></th>\n",
              "      <th></th>\n",
              "      <th></th>\n",
              "      <th></th>\n",
              "      <th></th>\n",
              "      <th></th>\n",
              "      <th></th>\n",
              "      <th></th>\n",
              "      <th></th>\n",
              "    </tr>\n",
              "  </thead>\n",
              "  <tbody>\n",
              "    <tr>\n",
              "      <th>2018-10-19</th>\n",
              "      <td>2018-10-19</td>\n",
              "      <td>25172.029297</td>\n",
              "      <td>25743.449219</td>\n",
              "      <td>25090.300781</td>\n",
              "      <td>25561.400391</td>\n",
              "      <td>25561.400391</td>\n",
              "      <td>2.037872e+09</td>\n",
              "      <td>2018</td>\n",
              "      <td>NaN</td>\n",
              "      <td>None</td>\n",
              "      <td>NaN</td>\n",
              "    </tr>\n",
              "    <tr>\n",
              "      <th>2018-10-22</th>\n",
              "      <td>2018-10-22</td>\n",
              "      <td>25668.330078</td>\n",
              "      <td>26234.859375</td>\n",
              "      <td>25668.330078</td>\n",
              "      <td>26153.150391</td>\n",
              "      <td>26153.150391</td>\n",
              "      <td>2.222812e+09</td>\n",
              "      <td>2018</td>\n",
              "      <td>2.315014</td>\n",
              "      <td>Positive</td>\n",
              "      <td>2.315014</td>\n",
              "    </tr>\n",
              "    <tr>\n",
              "      <th>2018-10-23</th>\n",
              "      <td>2018-10-23</td>\n",
              "      <td>26015.490234</td>\n",
              "      <td>26015.490234</td>\n",
              "      <td>25315.759766</td>\n",
              "      <td>25346.550781</td>\n",
              "      <td>25346.550781</td>\n",
              "      <td>1.772912e+09</td>\n",
              "      <td>2018</td>\n",
              "      <td>-3.084139</td>\n",
              "      <td>Among top losers</td>\n",
              "      <td>-3.084139</td>\n",
              "    </tr>\n",
              "    <tr>\n",
              "      <th>2018-10-24</th>\n",
              "      <td>2018-10-24</td>\n",
              "      <td>25401.169922</td>\n",
              "      <td>25653.359375</td>\n",
              "      <td>25194.289063</td>\n",
              "      <td>25249.779297</td>\n",
              "      <td>25249.779297</td>\n",
              "      <td>1.962754e+09</td>\n",
              "      <td>2018</td>\n",
              "      <td>-0.381794</td>\n",
              "      <td>Slight or No change</td>\n",
              "      <td>-0.381794</td>\n",
              "    </tr>\n",
              "    <tr>\n",
              "      <th>2018-10-25</th>\n",
              "      <td>2018-10-25</td>\n",
              "      <td>24766.720703</td>\n",
              "      <td>24994.460938</td>\n",
              "      <td>24653.789063</td>\n",
              "      <td>24994.460938</td>\n",
              "      <td>24994.460938</td>\n",
              "      <td>2.288634e+09</td>\n",
              "      <td>2018</td>\n",
              "      <td>-1.011171</td>\n",
              "      <td>Negative</td>\n",
              "      <td>-1.011171</td>\n",
              "    </tr>\n",
              "  </tbody>\n",
              "</table>\n",
              "</div>"
            ],
            "text/plain": [
              "                 Date          Open  ...               trends  DailyPercChange\n",
              "Date                                 ...                                      \n",
              "2018-10-19 2018-10-19  25172.029297  ...                 None              NaN\n",
              "2018-10-22 2018-10-22  25668.330078  ...             Positive         2.315014\n",
              "2018-10-23 2018-10-23  26015.490234  ...     Among top losers        -3.084139\n",
              "2018-10-24 2018-10-24  25401.169922  ...  Slight or No change        -0.381794\n",
              "2018-10-25 2018-10-25  24766.720703  ...             Negative        -1.011171\n",
              "\n",
              "[5 rows x 11 columns]"
            ]
          },
          "metadata": {
            "tags": []
          },
          "execution_count": 144
        }
      ]
    },
    {
      "cell_type": "code",
      "metadata": {
        "colab": {
          "base_uri": "https://localhost:8080/",
          "height": 534
        },
        "id": "xYGCdJu8qiSQ",
        "outputId": "87e9bca8-49a7-4f0c-f29b-37d28452a938"
      },
      "source": [
        "df_hs_pie_data = df_hs.groupby('trends')\n",
        "pie_label = sorted([df_hs.loc[:, 'trends'].unique()])\n",
        "plt.pie(df_hs_pie_data['trends'].count(), autopct = '%1.1f%%', radius = 2)\n",
        "plt.show()\n",
        "trends = df_hs_pie_data['trends'].count()\n",
        "trends"
      ],
      "execution_count": 135,
      "outputs": [
        {
          "output_type": "display_data",
          "data": {
            "image/png": "[encoded data removed]",
            "text/plain": [
              "<Figure size 432x288 with 1 Axes>"
            ]
          },
          "metadata": {
            "tags": []
          }
        },
        {
          "output_type": "execute_result",
          "data": {
            "text/plain": [
              "trends\n",
              "Among top gainers        7\n",
              "Among top losers         8\n",
              "Negative                74\n",
              "Positive                81\n",
              "Slight Negative         61\n",
              "Slight Positive         65\n",
              "Slight or No change    195\n",
              "Name: trends, dtype: int64"
            ]
          },
          "metadata": {
            "tags": []
          },
          "execution_count": 135
        }
      ]
    },
    {
      "cell_type": "markdown",
      "metadata": {
        "id": "BHVNGn3m2xK2"
      },
      "source": [
        "Slight or No Change =   195 (39.7 %)\n",
        "\n",
        "Slight Positive     =    65 (16.5%)\n",
        "\n",
        "Slight Negative     =    61 (15.1%)\n",
        "\n",
        "Positive            =    81 (13.2%)\n",
        "\n",
        "Negative            =    74 (12.4%)\n",
        "\n",
        "Among top gainers   =     7 (1.4%)\n",
        "\n",
        "Among top losers    =     8 (1.6%)\n",
        "\n",
        "\n",
        "\n"
      ]
    },
    {
      "cell_type": "markdown",
      "metadata": {
        "id": "NstXmjgawHz7"
      },
      "source": [
        "Trends 2019 Nasdaq"
      ]
    },
    {
      "cell_type": "code",
      "metadata": {
        "colab": {
          "base_uri": "https://localhost:8080/",
          "height": 227
        },
        "id": "5iuRaLuPsXw4",
        "outputId": "80da6821-fa0f-475b-9cc7-a42b1e3fdc94"
      },
      "source": [
        "df_nas['trends']= df_nas['DailyPercChange'].apply(lambda x:trends_19(x))\n",
        "df_nas.head()"
      ],
      "execution_count": 145,
      "outputs": [
        {
          "output_type": "execute_result",
          "data": {
            "text/html": [
              "<div>\n",
              "<style scoped>\n",
              "    .dataframe tbody tr th:only-of-type {\n",
              "        vertical-align: middle;\n",
              "    }\n",
              "\n",
              "    .dataframe tbody tr th {\n",
              "        vertical-align: top;\n",
              "    }\n",
              "\n",
              "    .dataframe thead th {\n",
              "        text-align: right;\n",
              "    }\n",
              "</style>\n",
              "<table border=\"1\" class=\"dataframe\">\n",
              "  <thead>\n",
              "    <tr style=\"text-align: right;\">\n",
              "      <th></th>\n",
              "      <th>Date</th>\n",
              "      <th>Open</th>\n",
              "      <th>High</th>\n",
              "      <th>Low</th>\n",
              "      <th>Close</th>\n",
              "      <th>Adj Close</th>\n",
              "      <th>Volume</th>\n",
              "      <th>year</th>\n",
              "      <th>DayliPercChange</th>\n",
              "      <th>trends</th>\n",
              "      <th>DailyPercChange</th>\n",
              "    </tr>\n",
              "    <tr>\n",
              "      <th>Date</th>\n",
              "      <th></th>\n",
              "      <th></th>\n",
              "      <th></th>\n",
              "      <th></th>\n",
              "      <th></th>\n",
              "      <th></th>\n",
              "      <th></th>\n",
              "      <th></th>\n",
              "      <th></th>\n",
              "      <th></th>\n",
              "      <th></th>\n",
              "    </tr>\n",
              "  </thead>\n",
              "  <tbody>\n",
              "    <tr>\n",
              "      <th>2018-10-22</th>\n",
              "      <td>2018-10-22</td>\n",
              "      <td>7486.740234</td>\n",
              "      <td>7520.540039</td>\n",
              "      <td>7424.740234</td>\n",
              "      <td>7468.629883</td>\n",
              "      <td>7468.629883</td>\n",
              "      <td>2282400000</td>\n",
              "      <td>2018</td>\n",
              "      <td>NaN</td>\n",
              "      <td>None</td>\n",
              "      <td>NaN</td>\n",
              "    </tr>\n",
              "    <tr>\n",
              "      <th>2018-10-23</th>\n",
              "      <td>2018-10-23</td>\n",
              "      <td>7328.549805</td>\n",
              "      <td>7472.580078</td>\n",
              "      <td>7260.129883</td>\n",
              "      <td>7437.540039</td>\n",
              "      <td>7437.540039</td>\n",
              "      <td>2735820000</td>\n",
              "      <td>2018</td>\n",
              "      <td>-0.416272</td>\n",
              "      <td>Slight or No change</td>\n",
              "      <td>-0.416272</td>\n",
              "    </tr>\n",
              "    <tr>\n",
              "      <th>2018-10-24</th>\n",
              "      <td>2018-10-24</td>\n",
              "      <td>7423.209961</td>\n",
              "      <td>7435.689941</td>\n",
              "      <td>7099.000000</td>\n",
              "      <td>7108.399902</td>\n",
              "      <td>7108.399902</td>\n",
              "      <td>2935550000</td>\n",
              "      <td>2018</td>\n",
              "      <td>-4.425390</td>\n",
              "      <td>Among top losers</td>\n",
              "      <td>-4.425390</td>\n",
              "    </tr>\n",
              "    <tr>\n",
              "      <th>2018-10-25</th>\n",
              "      <td>2018-10-25</td>\n",
              "      <td>7197.490234</td>\n",
              "      <td>7364.819824</td>\n",
              "      <td>7178.540039</td>\n",
              "      <td>7318.339844</td>\n",
              "      <td>7318.339844</td>\n",
              "      <td>2741810000</td>\n",
              "      <td>2018</td>\n",
              "      <td>2.953406</td>\n",
              "      <td>Positive</td>\n",
              "      <td>2.953406</td>\n",
              "    </tr>\n",
              "    <tr>\n",
              "      <th>2018-10-26</th>\n",
              "      <td>2018-10-26</td>\n",
              "      <td>7125.180176</td>\n",
              "      <td>7283.319824</td>\n",
              "      <td>7057.000000</td>\n",
              "      <td>7167.209961</td>\n",
              "      <td>7167.209961</td>\n",
              "      <td>2964780000</td>\n",
              "      <td>2018</td>\n",
              "      <td>-2.065084</td>\n",
              "      <td>Negative</td>\n",
              "      <td>-2.065084</td>\n",
              "    </tr>\n",
              "  </tbody>\n",
              "</table>\n",
              "</div>"
            ],
            "text/plain": [
              "                 Date         Open  ...               trends  DailyPercChange\n",
              "Date                                ...                                      \n",
              "2018-10-22 2018-10-22  7486.740234  ...                 None              NaN\n",
              "2018-10-23 2018-10-23  7328.549805  ...  Slight or No change        -0.416272\n",
              "2018-10-24 2018-10-24  7423.209961  ...     Among top losers        -4.425390\n",
              "2018-10-25 2018-10-25  7197.490234  ...             Positive         2.953406\n",
              "2018-10-26 2018-10-26  7125.180176  ...             Negative        -2.065084\n",
              "\n",
              "[5 rows x 11 columns]"
            ]
          },
          "metadata": {
            "tags": []
          },
          "execution_count": 145
        }
      ]
    },
    {
      "cell_type": "code",
      "metadata": {
        "colab": {
          "base_uri": "https://localhost:8080/",
          "height": 567
        },
        "id": "9z-wkMEpwW6X",
        "outputId": "2c165a30-e4cb-473a-f43c-b81d9edb33cd"
      },
      "source": [
        "df_nas_pie_data = df_nas.groupby('trends')\n",
        "pie_label = sorted([df_nas.loc[:, 'trends'].unique()])\n",
        "plt.pie(df_nas_pie_data['trends'].count(), autopct = '%1.1f%%', radius = 2)\n",
        "plt.show()\n",
        "trends = df_nas_pie_data['trends'].count()\n",
        "trends"
      ],
      "execution_count": 137,
      "outputs": [
        {
          "output_type": "display_data",
          "data": {
            "image/png": "[encoded data removed]",
            "text/plain": [
              "<Figure size 432x288 with 1 Axes>"
            ]
          },
          "metadata": {
            "tags": []
          }
        },
        {
          "output_type": "execute_result",
          "data": {
            "text/plain": [
              "trends\n",
              "Among top gainers       10\n",
              "Among top losers        22\n",
              "Bear drop                3\n",
              "Bull run                 3\n",
              "Negative                60\n",
              "Positive               106\n",
              "Slight Negative         41\n",
              "Slight Positive         80\n",
              "Slight or No change    175\n",
              "Name: trends, dtype: int64"
            ]
          },
          "metadata": {
            "tags": []
          },
          "execution_count": 137
        }
      ]
    },
    {
      "cell_type": "markdown",
      "metadata": {
        "id": "mjpaS4LF4LHf"
      },
      "source": [
        "Slight or No change =   175 (35.0%)\n",
        "\n",
        "Slight Positive     =    80 (16.0%)\n",
        "\n",
        "Slight Negative     =    41 (8.2%)\n",
        "\n",
        "Positive            =   106 (21.2%)\n",
        "\n",
        "Negative            =    60 (12.0%)\n",
        "\n",
        "Among top gainers   =    10 (2.0%)\n",
        "\n",
        "Among top losers    =    22 (4.4%)\n",
        "\n",
        "Bull run            =     3 (0.6%)\n",
        "\n",
        "Bear drop           =     3 (0.6%)\n",
        "\n",
        "\n",
        "\n",
        "\n",
        "\n",
        "\n",
        "\n",
        "\n"
      ]
    },
    {
      "cell_type": "markdown",
      "metadata": {
        "id": "Ob4zRlIFwkbm"
      },
      "source": [
        "Trends 2019 Nikkei"
      ]
    },
    {
      "cell_type": "code",
      "metadata": {
        "colab": {
          "base_uri": "https://localhost:8080/",
          "height": 227
        },
        "id": "I87rlDYvwnmy",
        "outputId": "a31cc53a-4b21-4c57-840f-0a163279c36e"
      },
      "source": [
        "df_nikk['trends']= df_nikk['DailyPercChange'].apply(lambda x:trends_19(x))\n",
        "df_nikk.head()"
      ],
      "execution_count": 146,
      "outputs": [
        {
          "output_type": "execute_result",
          "data": {
            "text/html": [
              "<div>\n",
              "<style scoped>\n",
              "    .dataframe tbody tr th:only-of-type {\n",
              "        vertical-align: middle;\n",
              "    }\n",
              "\n",
              "    .dataframe tbody tr th {\n",
              "        vertical-align: top;\n",
              "    }\n",
              "\n",
              "    .dataframe thead th {\n",
              "        text-align: right;\n",
              "    }\n",
              "</style>\n",
              "<table border=\"1\" class=\"dataframe\">\n",
              "  <thead>\n",
              "    <tr style=\"text-align: right;\">\n",
              "      <th></th>\n",
              "      <th>Date</th>\n",
              "      <th>Open</th>\n",
              "      <th>High</th>\n",
              "      <th>Low</th>\n",
              "      <th>Close</th>\n",
              "      <th>Adj Close</th>\n",
              "      <th>Volume</th>\n",
              "      <th>year</th>\n",
              "      <th>DayliPercChange</th>\n",
              "      <th>trends</th>\n",
              "      <th>DailyPercChange</th>\n",
              "    </tr>\n",
              "    <tr>\n",
              "      <th>Date</th>\n",
              "      <th></th>\n",
              "      <th></th>\n",
              "      <th></th>\n",
              "      <th></th>\n",
              "      <th></th>\n",
              "      <th></th>\n",
              "      <th></th>\n",
              "      <th></th>\n",
              "      <th></th>\n",
              "      <th></th>\n",
              "      <th></th>\n",
              "    </tr>\n",
              "  </thead>\n",
              "  <tbody>\n",
              "    <tr>\n",
              "      <th>2018-10-19</th>\n",
              "      <td>2018-10-19</td>\n",
              "      <td>22342.000000</td>\n",
              "      <td>22551.669922</td>\n",
              "      <td>22212.570313</td>\n",
              "      <td>22532.080078</td>\n",
              "      <td>22532.080078</td>\n",
              "      <td>67400.0</td>\n",
              "      <td>2018</td>\n",
              "      <td>NaN</td>\n",
              "      <td>None</td>\n",
              "      <td>NaN</td>\n",
              "    </tr>\n",
              "    <tr>\n",
              "      <th>2018-10-22</th>\n",
              "      <td>2018-10-22</td>\n",
              "      <td>22374.210938</td>\n",
              "      <td>22672.250000</td>\n",
              "      <td>22271.589844</td>\n",
              "      <td>22614.820313</td>\n",
              "      <td>22614.820313</td>\n",
              "      <td>63000.0</td>\n",
              "      <td>2018</td>\n",
              "      <td>0.367211</td>\n",
              "      <td>Slight or No change</td>\n",
              "      <td>0.367211</td>\n",
              "    </tr>\n",
              "    <tr>\n",
              "      <th>2018-10-23</th>\n",
              "      <td>2018-10-23</td>\n",
              "      <td>22404.140625</td>\n",
              "      <td>22410.150391</td>\n",
              "      <td>21993.070313</td>\n",
              "      <td>22010.779297</td>\n",
              "      <td>22010.779297</td>\n",
              "      <td>80200.0</td>\n",
              "      <td>2018</td>\n",
              "      <td>-2.670996</td>\n",
              "      <td>Negative</td>\n",
              "      <td>-2.670996</td>\n",
              "    </tr>\n",
              "    <tr>\n",
              "      <th>2018-10-24</th>\n",
              "      <td>2018-10-24</td>\n",
              "      <td>22167.759766</td>\n",
              "      <td>22207.089844</td>\n",
              "      <td>21911.419922</td>\n",
              "      <td>22091.179688</td>\n",
              "      <td>22091.179688</td>\n",
              "      <td>83900.0</td>\n",
              "      <td>2018</td>\n",
              "      <td>0.365277</td>\n",
              "      <td>Slight or No change</td>\n",
              "      <td>0.365277</td>\n",
              "    </tr>\n",
              "    <tr>\n",
              "      <th>2018-10-25</th>\n",
              "      <td>2018-10-25</td>\n",
              "      <td>21676.830078</td>\n",
              "      <td>21703.210938</td>\n",
              "      <td>21204.400391</td>\n",
              "      <td>21268.730469</td>\n",
              "      <td>21268.730469</td>\n",
              "      <td>93600.0</td>\n",
              "      <td>2018</td>\n",
              "      <td>-3.722976</td>\n",
              "      <td>Among top losers</td>\n",
              "      <td>-3.722976</td>\n",
              "    </tr>\n",
              "  </tbody>\n",
              "</table>\n",
              "</div>"
            ],
            "text/plain": [
              "                 Date          Open  ...               trends  DailyPercChange\n",
              "Date                                 ...                                      \n",
              "2018-10-19 2018-10-19  22342.000000  ...                 None              NaN\n",
              "2018-10-22 2018-10-22  22374.210938  ...  Slight or No change         0.367211\n",
              "2018-10-23 2018-10-23  22404.140625  ...             Negative        -2.670996\n",
              "2018-10-24 2018-10-24  22167.759766  ...  Slight or No change         0.365277\n",
              "2018-10-25 2018-10-25  21676.830078  ...     Among top losers        -3.722976\n",
              "\n",
              "[5 rows x 11 columns]"
            ]
          },
          "metadata": {
            "tags": []
          },
          "execution_count": 146
        }
      ]
    },
    {
      "cell_type": "code",
      "metadata": {
        "colab": {
          "base_uri": "https://localhost:8080/",
          "height": 551
        },
        "id": "lCqDto21wvf9",
        "outputId": "421a8d39-7315-468a-bf6b-8dcf29ecb74f"
      },
      "source": [
        "df_nikk_pie_data = df_nikk.groupby('trends')\n",
        "pie_label = sorted([df_nikk.loc[:, 'trends'].unique()])\n",
        "plt.pie(df_nikk_pie_data['trends'].count(), autopct = '%1.1f%%', radius = 2)\n",
        "plt.show()\n",
        "trends = df_nikk_pie_data['trends'].count()\n",
        "trends"
      ],
      "execution_count": 140,
      "outputs": [
        {
          "output_type": "display_data",
          "data": {
            "image/png": "[encoded data removed]",
            "text/plain": [
              "<Figure size 432x288 with 1 Axes>"
            ]
          },
          "metadata": {
            "tags": []
          }
        },
        {
          "output_type": "execute_result",
          "data": {
            "text/plain": [
              "trends\n",
              "Among top gainers        6\n",
              "Among top losers        11\n",
              "Bull run                 2\n",
              "Negative                63\n",
              "Positive                70\n",
              "Slight Negative         61\n",
              "Slight Positive         65\n",
              "Slight or No change    204\n",
              "Name: trends, dtype: int64"
            ]
          },
          "metadata": {
            "tags": []
          },
          "execution_count": 140
        }
      ]
    },
    {
      "cell_type": "markdown",
      "metadata": {
        "id": "EtmASEDQ5d87"
      },
      "source": [
        "Slight or No change  =   204 (42.3%)\n",
        "\n",
        "Slight Positive      =    65 (13.5%)\n",
        "\n",
        "Slight Negative      =    61 (12.7%)\n",
        "\n",
        "Positive             =    70 (14.5%)\n",
        "\n",
        "Negative             =    63 (13.1%)\n",
        "\n",
        "Among top gainers    =     6 (1.2%)\n",
        "\n",
        "Among top losers     =    11 (2.3%)\n",
        "\n",
        "Bull run             =     2 (0.4%)\n",
        "\n",
        "\n",
        "\n",
        "\n",
        "\n",
        "\n"
      ]
    },
    {
      "cell_type": "markdown",
      "metadata": {
        "id": "tgbJ-JFVaG-N"
      },
      "source": [
        "#### Penjelasan \n",
        "Terdapat 3 dataset saham yang berbeda, pertama saya melakukan variabel Daily Percentage Change dengan nama 'DailyPercChange' pada setiap dataset yaitu Hang Seng, Nasdaq, dan Nikkei. Kemudian saya melakukan pengecekan data apakah data tersebut kosong atau tidak. Selanjutnya pembuatan kolom Date bertipe date dan menampilkan tahun 2019. Dilanjutkan melakukan perhitungan untuk mendapatkan nilai Daily Percentage Change dibandingkan dengan Adj Close. Setelah melakukan perhitungan dilanjutkan dengan pengelompokan sesuai dengan kategori dengan menggunakan fungsi terhadap setiap dataset agar mengetahui presentasenya"
      ]
    },
    {
      "cell_type": "markdown",
      "metadata": {
        "id": "XVp4lXOnaG-N"
      },
      "source": [
        "### Soal 4 (30 poin)\n",
        "Lakukanlah analisis volatilitas dari ketiga harga saham tersebut selama tahun 2019, lalu tampilkan dan jelaskan hasil visualisasinya."
      ]
    },
    {
      "cell_type": "markdown",
      "metadata": {
        "id": "L6x5k2poaG-N"
      },
      "source": [
        "#### Code"
      ]
    },
    {
      "cell_type": "code",
      "metadata": {
        "id": "ZknXuVFqaG-N",
        "colab": {
          "base_uri": "https://localhost:8080/",
          "height": 227
        },
        "outputId": "78b647c2-8240-45e8-940e-34fe8f01e526"
      },
      "source": [
        "# type your code here\n",
        "combine = pd.concat([df_hs['Adj Close'], df_nas['Adj Close'], df_nikk['Adj Close']], axis=1)\n",
        "combine.columns = ['Hang Seng', 'Nasdaq', 'Nikkei']\n",
        "combine.dropna(inplace= True, axis = 0)\n",
        "combine.head()"
      ],
      "execution_count": 175,
      "outputs": [
        {
          "output_type": "execute_result",
          "data": {
            "text/html": [
              "<div>\n",
              "<style scoped>\n",
              "    .dataframe tbody tr th:only-of-type {\n",
              "        vertical-align: middle;\n",
              "    }\n",
              "\n",
              "    .dataframe tbody tr th {\n",
              "        vertical-align: top;\n",
              "    }\n",
              "\n",
              "    .dataframe thead th {\n",
              "        text-align: right;\n",
              "    }\n",
              "</style>\n",
              "<table border=\"1\" class=\"dataframe\">\n",
              "  <thead>\n",
              "    <tr style=\"text-align: right;\">\n",
              "      <th></th>\n",
              "      <th>Hang Seng</th>\n",
              "      <th>Nasdaq</th>\n",
              "      <th>Nikkei</th>\n",
              "    </tr>\n",
              "    <tr>\n",
              "      <th>Date</th>\n",
              "      <th></th>\n",
              "      <th></th>\n",
              "      <th></th>\n",
              "    </tr>\n",
              "  </thead>\n",
              "  <tbody>\n",
              "    <tr>\n",
              "      <th>2018-10-22</th>\n",
              "      <td>26153.150391</td>\n",
              "      <td>7468.629883</td>\n",
              "      <td>22614.820313</td>\n",
              "    </tr>\n",
              "    <tr>\n",
              "      <th>2018-10-23</th>\n",
              "      <td>25346.550781</td>\n",
              "      <td>7437.540039</td>\n",
              "      <td>22010.779297</td>\n",
              "    </tr>\n",
              "    <tr>\n",
              "      <th>2018-10-24</th>\n",
              "      <td>25249.779297</td>\n",
              "      <td>7108.399902</td>\n",
              "      <td>22091.179688</td>\n",
              "    </tr>\n",
              "    <tr>\n",
              "      <th>2018-10-25</th>\n",
              "      <td>24994.460938</td>\n",
              "      <td>7318.339844</td>\n",
              "      <td>21268.730469</td>\n",
              "    </tr>\n",
              "    <tr>\n",
              "      <th>2018-10-26</th>\n",
              "      <td>24717.630859</td>\n",
              "      <td>7167.209961</td>\n",
              "      <td>21184.599609</td>\n",
              "    </tr>\n",
              "  </tbody>\n",
              "</table>\n",
              "</div>"
            ],
            "text/plain": [
              "               Hang Seng       Nasdaq        Nikkei\n",
              "Date                                               \n",
              "2018-10-22  26153.150391  7468.629883  22614.820313\n",
              "2018-10-23  25346.550781  7437.540039  22010.779297\n",
              "2018-10-24  25249.779297  7108.399902  22091.179688\n",
              "2018-10-25  24994.460938  7318.339844  21268.730469\n",
              "2018-10-26  24717.630859  7167.209961  21184.599609"
            ]
          },
          "metadata": {
            "tags": []
          },
          "execution_count": 175
        }
      ]
    },
    {
      "cell_type": "code",
      "metadata": {
        "colab": {
          "base_uri": "https://localhost:8080/",
          "height": 457
        },
        "id": "AQCWcqts_Ogc",
        "outputId": "62fc9cee-0ed5-43be-a442-6947790ff3b1"
      },
      "source": [
        "change = combine.pct_change()*100\n",
        "vola = df_change[['Hang Seng', 'Nikkei', 'Nasdaq']].rolling(7).std()*np.sqrt(7)\n",
        "vola.plot(figsize = (15, 7))\n",
        "plt.title('Volatilitas Hang Seng, Nasdaq dan Nikkei 2019 ')"
      ],
      "execution_count": 188,
      "outputs": [
        {
          "output_type": "execute_result",
          "data": {
            "text/plain": [
              "Text(0.5, 1.0, 'Volatilitas Hang Seng, Nasdaq dan Nikkei 2019 ')"
            ]
          },
          "metadata": {
            "tags": []
          },
          "execution_count": 188
        },
        {
          "output_type": "display_data",
          "data": {
            "image/png": "[encoded data removed]",
            "text/plain": [
              "<Figure size 1080x504 with 1 Axes>"
            ]
          },
          "metadata": {
            "tags": [],
            "needs_background": "light"
          }
        }
      ]
    },
    {
      "cell_type": "markdown",
      "metadata": {
        "id": "HVYamS8xaG-O"
      },
      "source": [
        "#### Penjelasan \n",
        "Berdasarkan hasil plot volatilitas dari ketiga saham (Hang Seng, Nasdaq, dan Nikkei) dalam tahun 2019.Dapat dilihat pertumbuhan saham terjadi kenaikan tertinggi terletak pada saham Nasdaq dan penuruan terbesar terjadi pada saham Nikkei  \n"
      ]
    }
  ]
}